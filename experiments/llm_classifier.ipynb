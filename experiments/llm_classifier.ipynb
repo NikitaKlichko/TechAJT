{
 "cells": [
  {
   "cell_type": "code",
   "execution_count": 1,
   "metadata": {},
   "outputs": [],
   "source": [
    "import pandas as pd\n",
    "from huggingface_hub import hf_hub_download\n",
    "from llama_cpp import Llama\n",
    "import re\n",
    "import json\n",
    "from tqdm.notebook import tqdm\n",
    "from sklearn.metrics import accuracy_score, precision_score, recall_score, f1_score, matthews_corrcoef, classification_report"
   ]
  },
  {
   "cell_type": "code",
   "execution_count": 2,
   "metadata": {},
   "outputs": [],
   "source": [
    "train_df = pd.read_csv(\"train_ajt_df.csv\", index_col=0)\n",
    "test_df = pd.read_csv(\"test_ajt_df.csv\", index_col=0)"
   ]
  },
  {
   "cell_type": "code",
   "execution_count": 3,
   "metadata": {},
   "outputs": [],
   "source": [
    "df = pd.read_csv(\"ajt_dataset.csv\")"
   ]
  },
  {
   "cell_type": "code",
   "execution_count": 4,
   "metadata": {},
   "outputs": [],
   "source": [
    "train_df = pd.concat([train_df, df.loc[train_df.index]['type_mistake'], ], axis=1)\n",
    "test_df = pd.concat([test_df, df.loc[test_df.index]['type_mistake'], ], axis=1)"
   ]
  },
  {
   "cell_type": "code",
   "execution_count": 19,
   "metadata": {},
   "outputs": [
    {
     "data": {
      "text/plain": [
       "'Коррекция звука под особенности помещения давно используется звукорежиссерами для обеспечения настройки звука в студиях и концертных залах, имея целью ослабление влияния особенностей используемого помещения на звук.'"
      ]
     },
     "execution_count": 19,
     "metadata": {},
     "output_type": "execute_result"
    }
   ],
   "source": [
    "test_df['text'].values[3]"
   ]
  },
  {
   "cell_type": "code",
   "execution_count": 5,
   "metadata": {},
   "outputs": [],
   "source": [
    "train_df = train_df.reset_index(drop=True)\n",
    "test_df = test_df.reset_index(drop=True)"
   ]
  },
  {
   "cell_type": "code",
   "execution_count": 6,
   "metadata": {},
   "outputs": [],
   "source": [
    "# hf_hub_download(repo_id=\"bartowski/gemma-2-27b-it-GGUF\", filename=\"gemma-2-27b-it-Q8_0.gguf\")\n",
    "# hf_hub_download(repo_id=\"bartowski/Qwen2.5-32B-Instruct-GGUF\", filename=\"Qwen2.5-32B-Instruct-Q8_0.gguf\")\n",
    "# hf_hub_download(repo_id=\"bartowski/gemma-2-9b-it-GGUF\", filename=\"gemma-2-9b-it-Q8_0.gguf\")"
   ]
  },
  {
   "cell_type": "code",
   "execution_count": 7,
   "metadata": {},
   "outputs": [],
   "source": [
    "model_path ='/home/.cache/huggingface/hub/models--bartowski--gemma-2-27b-it-GGUF/snapshots/a8874ad70a9d2ce99d6d41c25920b11bb330aecd/gemma-2-27b-it-Q8_0.gguf'\n",
    "# model_path = '/home/.cache/huggingface/hub/models--bartowski--Qwen2.5-32B-Instruct-GGUF/snapshots/2116cbb385b8ce3a4d28cf3bf1cd2039a55821a6/Qwen2.5-32B-Instruct-Q8_0.gguf'\n",
    "# model_path = '/home/.cache/huggingface/hub/models--bartowski--gemma-2-9b-it-GGUF/snapshots/d731033f3dc4018261fd39896e50984d398b4ac5/gemma-2-9b-it-Q8_0.gguf'"
   ]
  },
  {
   "cell_type": "code",
   "execution_count": 8,
   "metadata": {},
   "outputs": [
    {
     "name": "stderr",
     "output_type": "stream",
     "text": [
      "llama_new_context_with_model: n_ctx_per_seq (2048) < n_ctx_train (8192) -- the full capacity of the model will not be utilized\n"
     ]
    }
   ],
   "source": [
    "llm = Llama(model_path=model_path, n_gpu_layers=-1, n_ctx=2048, verbose=False)"
   ]
  },
  {
   "cell_type": "code",
   "execution_count": 9,
   "metadata": {},
   "outputs": [],
   "source": [
    "def generate_llm_answer(system_prompt, input_txt, model_like='other'):\n",
    "    if model_like == 'gemma':\n",
    "        messages=[\n",
    "        {\"role\": \"user\", \"content\": system_prompt + input_txt},\n",
    "    ]\n",
    "    else:\n",
    "        messages=[\n",
    "        {\n",
    "            \"role\": \"system\",\n",
    "            \"content\": system_prompt,\n",
    "        },\n",
    "        {   \"role\": \"user\", \n",
    "            \"content\": input_txt\n",
    "        },\n",
    "    ]\n",
    "\n",
    "    output = llm.create_chat_completion(\n",
    "        messages,\n",
    "        temperature=0.1,\n",
    "        top_p=0.9,\n",
    "        top_k=40,\n",
    "        repeat_penalty=1.05,\n",
    "        )\n",
    "    \n",
    "    gen_answ = output['choices'][0]['message']['content']\n",
    "    # print(\"Query:\", input_txt)\n",
    "    # print(\"Generated answer:\", gen_answ)\n",
    "    # print('\\n\\n')\n",
    "    return gen_answ"
   ]
  },
  {
   "cell_type": "code",
   "execution_count": 10,
   "metadata": {},
   "outputs": [],
   "source": [
    "def extract_answer_from_json(answer):\n",
    "    json_pattern = re.search(r'```json\\n(.*?)\\n```', answer, re.DOTALL)\n",
    "    extracted_json_string = json_pattern.group(1) if json_pattern else None\n",
    "    res = json.loads(extracted_json_string)\n",
    "    return res"
   ]
  },
  {
   "cell_type": "markdown",
   "metadata": {},
   "source": [
    "# ZeRo-shot"
   ]
  },
  {
   "cell_type": "markdown",
   "metadata": {},
   "source": [
    "## Binary clf and type mistake w no mistakes"
   ]
  },
  {
   "cell_type": "code",
   "execution_count": 10,
   "metadata": {},
   "outputs": [],
   "source": [
    "system_prompt = \"\"\" --Цель--  \n",
    "Ты - квалифицированный лингвист. Читай очень внимательно. Оцени приемлемость текста, написанного студентом технического профиля. \n",
    "Определи, содержит ли текст ошибку (1 — есть, 0 — нет). Если ошибка есть, классифицируй её как одну из следующих категорий:\n",
    "\n",
    "- Речевая: неправильный выбор слов, канцеляризмы, некорректные выражения.\n",
    "- Логическая: нарушение логики изложения, противоречия.\n",
    "- Стилистическая:несоответствие стилю научного/технического текста.\n",
    "- Грамматическая: ошибки в склонении, спряжении, согласовании слов.\n",
    "- Пунктуационная: пропущенные или избыточные знаки препинания.\n",
    "- Лексическая: неправильный выбор слова.\n",
    "\n",
    "--Формат ответа-- \n",
    "\n",
    "Оъяснение ответа не нужно!\n",
    "\n",
    "- Выведи ключевые слова в формате JSON.\n",
    "- JSON должен содержать два ключа:\n",
    "  - \"is_mistake_pred\"\n",
    "  - \"error_type_pred\"\n",
    "\n",
    "Если ошибка есть:\n",
    "\n",
    "```json\n",
    "{\n",
    "  \"is_mistake_pred\": 1,\n",
    "  \"error_type_pred\": \"тип ошибки\"\n",
    "}\n",
    "```\n",
    "\n",
    "Если ошибки нет:\n",
    "\n",
    "```json\n",
    "{\n",
    "  \"is_mistake_pred\": 0,\n",
    "  \"error_type_pred\": \"нет ошибки\"\n",
    "}\n",
    "```\n",
    "\n",
    "Текст: \n",
    "\"\"\""
   ]
  },
  {
   "cell_type": "code",
   "execution_count": 11,
   "metadata": {},
   "outputs": [
    {
     "data": {
      "application/vnd.jupyter.widget-view+json": {
       "model_id": "e1e663ee7ede4aa4917c21e88823f46a",
       "version_major": 2,
       "version_minor": 0
      },
      "text/plain": [
       "  0%|          | 0/197 [00:00<?, ?it/s]"
      ]
     },
     "metadata": {},
     "output_type": "display_data"
    }
   ],
   "source": [
    "preds = []\n",
    "for i, v in tqdm(enumerate(test_df.text.values), total=len(test_df)):\n",
    "    out = generate_llm_answer(system_prompt, v, model_like='gemma')\n",
    "    try:\n",
    "        struct_out = extract_answer_from_json(out)\n",
    "        preds.append(struct_out)\n",
    "    except Exception as e:\n",
    "        print(f\"Error extractuin json from index {i}: {e}\")\n",
    "        bad_output = {\"is_mistake_pred\": 1, \"error_type_pred\": \"не определена\"}\n",
    "        preds.append(bad_output)"
   ]
  },
  {
   "cell_type": "code",
   "execution_count": 12,
   "metadata": {},
   "outputs": [
    {
     "data": {
      "text/html": [
       "<div>\n",
       "<style scoped>\n",
       "    .dataframe tbody tr th:only-of-type {\n",
       "        vertical-align: middle;\n",
       "    }\n",
       "\n",
       "    .dataframe tbody tr th {\n",
       "        vertical-align: top;\n",
       "    }\n",
       "\n",
       "    .dataframe thead th {\n",
       "        text-align: right;\n",
       "    }\n",
       "</style>\n",
       "<table border=\"1\" class=\"dataframe\">\n",
       "  <thead>\n",
       "    <tr style=\"text-align: right;\">\n",
       "      <th></th>\n",
       "      <th>is_mistake_pred</th>\n",
       "      <th>error_type_pred</th>\n",
       "    </tr>\n",
       "  </thead>\n",
       "  <tbody>\n",
       "    <tr>\n",
       "      <th>0</th>\n",
       "      <td>0</td>\n",
       "      <td>нет ошибки</td>\n",
       "    </tr>\n",
       "    <tr>\n",
       "      <th>1</th>\n",
       "      <td>1</td>\n",
       "      <td>стилистическая</td>\n",
       "    </tr>\n",
       "    <tr>\n",
       "      <th>2</th>\n",
       "      <td>1</td>\n",
       "      <td>стилистическая</td>\n",
       "    </tr>\n",
       "    <tr>\n",
       "      <th>3</th>\n",
       "      <td>1</td>\n",
       "      <td>стилистическая</td>\n",
       "    </tr>\n",
       "    <tr>\n",
       "      <th>4</th>\n",
       "      <td>1</td>\n",
       "      <td>стилистическая</td>\n",
       "    </tr>\n",
       "  </tbody>\n",
       "</table>\n",
       "</div>"
      ],
      "text/plain": [
       "   is_mistake_pred error_type_pred\n",
       "0                0      нет ошибки\n",
       "1                1  стилистическая\n",
       "2                1  стилистическая\n",
       "3                1  стилистическая\n",
       "4                1  стилистическая"
      ]
     },
     "execution_count": 12,
     "metadata": {},
     "output_type": "execute_result"
    }
   ],
   "source": [
    "pred_df = pd.DataFrame(preds)\n",
    "pred_df['error_type_pred'] = pred_df['error_type_pred'].apply(lambda x: x.lower().strip())\n",
    "pred_df.head()"
   ]
  },
  {
   "cell_type": "code",
   "execution_count": 13,
   "metadata": {},
   "outputs": [
    {
     "name": "stdout",
     "output_type": "stream",
     "text": [
      "Accuracy/Binary: 0.649746192893401\n",
      "F1/Binary: 0.6698564593301436\n",
      "MCC/Binray: 0.3118730722792103\n"
     ]
    }
   ],
   "source": [
    "print(f\"Accuracy/Binary: {accuracy_score(test_df['is_mistake'], pred_df['is_mistake_pred'])}\")\n",
    "print(f\"F1/Binary: {f1_score(test_df['is_mistake'], pred_df['is_mistake_pred'])}\")\n",
    "print(f\"MCC/Binray: {matthews_corrcoef(test_df['is_mistake'], pred_df['is_mistake_pred'])}\")"
   ]
  },
  {
   "cell_type": "code",
   "execution_count": 14,
   "metadata": {},
   "outputs": [],
   "source": [
    "label_mapper = {\"нет ошибки\": 0, \"речевая\": 1, \"стилистическая\": 2, \"пунктуационная\": 3, \"грамматическая\": 4, \"лексическая\": 5, \"логическая\": 6}\n",
    "reverse_label_mapper = {0: \"нет ошибки\", 1: \"речевая\", 2: \"стилистическая\", 3: \"пунктуационная\", 4: \"грамматическая\", 5: \"лексическая\", 6: \"логическая\"}"
   ]
  },
  {
   "cell_type": "code",
   "execution_count": 15,
   "metadata": {},
   "outputs": [],
   "source": [
    "pred_df['error_type_pred'] = pred_df['error_type_pred'].map(label_mapper)\n",
    "test_df['type_mistake'] = test_df['type_mistake'].map(label_mapper)"
   ]
  },
  {
   "cell_type": "code",
   "execution_count": 16,
   "metadata": {},
   "outputs": [
    {
     "name": "stdout",
     "output_type": "stream",
     "text": [
      "Accuracy/Multi: 0.36548223350253806\n",
      "F1/Multi: 0.15227370227370227\n",
      "MCC/Multi: 0.13590894836915793\n"
     ]
    }
   ],
   "source": [
    "# w no mistakes\n",
    "print(f\"Accuracy/Multi: {accuracy_score(test_df['type_mistake'], pred_df['error_type_pred'])}\")\n",
    "print(f\"F1/Multi: {f1_score(test_df['type_mistake'], pred_df['error_type_pred'], average='macro')}\")\n",
    "print(f\"MCC/Multi: {matthews_corrcoef(test_df['type_mistake'], pred_df['error_type_pred'])}\")"
   ]
  },
  {
   "cell_type": "markdown",
   "metadata": {},
   "source": [
    "## Only binary"
   ]
  },
  {
   "cell_type": "code",
   "execution_count": 17,
   "metadata": {},
   "outputs": [],
   "source": [
    "system_prompt = \"\"\" --Цель--  \n",
    "Ты - квалифицированный лингвист. Читай очень внимательно. Оцени приемлемость текста, написанного студентом технического профиля. \n",
    "Определи, содержит ли текст ошибку (1 — есть, 0 — нет). Ошибки могут быть следующего вида:\n",
    "\n",
    "- Речевая: неправильный выбор слов, канцеляризмы, некорректные выражения.\n",
    "- Логическая: нарушение логики изложения, противоречия.\n",
    "- Стилистическая:несоответствие стилю научного/технического текста.\n",
    "- Грамматическая: ошибки в склонении, спряжении, согласовании слов.\n",
    "- Пунктуационная: пропущенные или избыточные знаки препинания.\n",
    "- Лексическая: неправильный выбор слова.\n",
    "\n",
    "--Формат ответа-- \n",
    "\n",
    "Оъяснение ответа не нужно!\n",
    "\n",
    "- Выведи ключевые слова в формате JSON.\n",
    "- JSON должен содержать ключ:\n",
    "  - \"is_mistake_pred\"\n",
    "\n",
    "Пример:\n",
    "\n",
    "```json\n",
    "{\n",
    "  \"is_mistake_pred\": \"1 или 0\"\n",
    "}\n",
    "```\n",
    "\n",
    "Текст: \n",
    "\"\"\""
   ]
  },
  {
   "cell_type": "code",
   "execution_count": 18,
   "metadata": {},
   "outputs": [
    {
     "data": {
      "application/vnd.jupyter.widget-view+json": {
       "model_id": "abc53cbb3dda4f31a8cc0a06982f7eef",
       "version_major": 2,
       "version_minor": 0
      },
      "text/plain": [
       "  0%|          | 0/197 [00:00<?, ?it/s]"
      ]
     },
     "metadata": {},
     "output_type": "display_data"
    }
   ],
   "source": [
    "preds = []\n",
    "for i, v in tqdm(enumerate(test_df.text.values), total=len(test_df)):\n",
    "    out = generate_llm_answer(system_prompt, v, model_like='gemma')\n",
    "    try:\n",
    "        struct_out = extract_answer_from_json(out)\n",
    "        preds.append(struct_out)\n",
    "    except Exception as e:\n",
    "        print(f\"Error extractuin json from index {i}: {e}\")\n",
    "        bad_output = {\"is_mistake_pred\": 1}\n",
    "        preds.append(bad_output)"
   ]
  },
  {
   "cell_type": "code",
   "execution_count": 19,
   "metadata": {},
   "outputs": [
    {
     "data": {
      "text/html": [
       "<div>\n",
       "<style scoped>\n",
       "    .dataframe tbody tr th:only-of-type {\n",
       "        vertical-align: middle;\n",
       "    }\n",
       "\n",
       "    .dataframe tbody tr th {\n",
       "        vertical-align: top;\n",
       "    }\n",
       "\n",
       "    .dataframe thead th {\n",
       "        text-align: right;\n",
       "    }\n",
       "</style>\n",
       "<table border=\"1\" class=\"dataframe\">\n",
       "  <thead>\n",
       "    <tr style=\"text-align: right;\">\n",
       "      <th></th>\n",
       "      <th>is_mistake_pred</th>\n",
       "    </tr>\n",
       "  </thead>\n",
       "  <tbody>\n",
       "    <tr>\n",
       "      <th>0</th>\n",
       "      <td>0.0</td>\n",
       "    </tr>\n",
       "    <tr>\n",
       "      <th>1</th>\n",
       "      <td>1.0</td>\n",
       "    </tr>\n",
       "    <tr>\n",
       "      <th>2</th>\n",
       "      <td>0.0</td>\n",
       "    </tr>\n",
       "    <tr>\n",
       "      <th>3</th>\n",
       "      <td>1.0</td>\n",
       "    </tr>\n",
       "    <tr>\n",
       "      <th>4</th>\n",
       "      <td>1.0</td>\n",
       "    </tr>\n",
       "  </tbody>\n",
       "</table>\n",
       "</div>"
      ],
      "text/plain": [
       "   is_mistake_pred\n",
       "0              0.0\n",
       "1              1.0\n",
       "2              0.0\n",
       "3              1.0\n",
       "4              1.0"
      ]
     },
     "execution_count": 19,
     "metadata": {},
     "output_type": "execute_result"
    }
   ],
   "source": [
    "pred_df = pd.DataFrame(preds)\n",
    "pred_df['is_mistake_pred'] = pred_df['is_mistake_pred'].apply(lambda x: float(x))\n",
    "pred_df.head()"
   ]
  },
  {
   "cell_type": "code",
   "execution_count": 20,
   "metadata": {},
   "outputs": [
    {
     "name": "stdout",
     "output_type": "stream",
     "text": [
      "Accuracy/Binary: 0.6751269035532995\n",
      "F1/Binary: 0.6483516483516484\n",
      "MCC/Binray: 0.3477261111996992\n"
     ]
    }
   ],
   "source": [
    "print(f\"Accuracy/Binary: {accuracy_score(test_df['is_mistake'], pred_df['is_mistake_pred'])}\")\n",
    "print(f\"F1/Binary: {f1_score(test_df['is_mistake'], pred_df['is_mistake_pred'])}\")\n",
    "print(f\"MCC/Binray: {matthews_corrcoef(test_df['is_mistake'], pred_df['is_mistake_pred'])}\")"
   ]
  },
  {
   "cell_type": "markdown",
   "metadata": {},
   "source": [
    "## Multi-class w/o no mistakes"
   ]
  },
  {
   "cell_type": "code",
   "execution_count": 10,
   "metadata": {},
   "outputs": [],
   "source": [
    "system_prompt = \"\"\" --Цель--  \n",
    "Ты - квалифицированный лингвист. Читай очень внимательно. Тебе необходимо классифицировать ошибку в тексте на одну из следующих категорий:\n",
    "\n",
    "- Речевая: неправильный выбор слов, канцеляризмы, некорректные выражения.\n",
    "- Логическая: нарушение логики изложения, противоречия.\n",
    "- Стилистическая:несоответствие стилю научного/технического текста.\n",
    "- Грамматическая: ошибки в склонении, спряжении, согласовании слов.\n",
    "- Пунктуационная: пропущенные или избыточные знаки препинания.\n",
    "- Лексическая: неправильный выбор слова.\n",
    "\n",
    "--Формат ответа-- \n",
    "\n",
    "Оъяснение ответа не нужно!\n",
    "\n",
    "- Выведи ключевые слова в формате JSON.\n",
    "- JSON должен содержать ключ:\n",
    "  - \"error_type_pred\"\n",
    "\n",
    "Пример:\n",
    "\n",
    "```json\n",
    "{\n",
    "  \"error_type_pred\": \"тип ошибки\"\n",
    "}\n",
    "```\n",
    "\n",
    "Текст: \n",
    "\"\"\""
   ]
  },
  {
   "cell_type": "code",
   "execution_count": 11,
   "metadata": {},
   "outputs": [],
   "source": [
    "train_df = train_df[train_df['type_mistake'] != \"нет ошибки\"]\n",
    "test_df = test_df[test_df['type_mistake'] != \"нет ошибки\"]"
   ]
  },
  {
   "cell_type": "code",
   "execution_count": 12,
   "metadata": {},
   "outputs": [
    {
     "data": {
      "application/vnd.jupyter.widget-view+json": {
       "model_id": "4a8e82fdf8f0430085d78f606fe43bb0",
       "version_major": 2,
       "version_minor": 0
      },
      "text/plain": [
       "  0%|          | 0/94 [00:00<?, ?it/s]"
      ]
     },
     "metadata": {},
     "output_type": "display_data"
    }
   ],
   "source": [
    "preds = []\n",
    "for i, v in tqdm(enumerate(test_df.text.values), total=len(test_df)):\n",
    "    out = generate_llm_answer(system_prompt, v, model_like='gemma')\n",
    "    try:\n",
    "        struct_out = extract_answer_from_json(out)\n",
    "        preds.append(struct_out)\n",
    "    except Exception as e:\n",
    "        print(f\"Error extractuin json from index {i}: {e}\")\n",
    "        bad_output = {\"error_type_pred\": \"не определена\"}\n",
    "        preds.append(bad_output)"
   ]
  },
  {
   "cell_type": "code",
   "execution_count": 13,
   "metadata": {},
   "outputs": [
    {
     "data": {
      "text/html": [
       "<div>\n",
       "<style scoped>\n",
       "    .dataframe tbody tr th:only-of-type {\n",
       "        vertical-align: middle;\n",
       "    }\n",
       "\n",
       "    .dataframe tbody tr th {\n",
       "        vertical-align: top;\n",
       "    }\n",
       "\n",
       "    .dataframe thead th {\n",
       "        text-align: right;\n",
       "    }\n",
       "</style>\n",
       "<table border=\"1\" class=\"dataframe\">\n",
       "  <thead>\n",
       "    <tr style=\"text-align: right;\">\n",
       "      <th></th>\n",
       "      <th>error_type_pred</th>\n",
       "    </tr>\n",
       "  </thead>\n",
       "  <tbody>\n",
       "    <tr>\n",
       "      <th>0</th>\n",
       "      <td>стилистическая</td>\n",
       "    </tr>\n",
       "    <tr>\n",
       "      <th>1</th>\n",
       "      <td>стилистическая</td>\n",
       "    </tr>\n",
       "    <tr>\n",
       "      <th>2</th>\n",
       "      <td>стилистическая</td>\n",
       "    </tr>\n",
       "    <tr>\n",
       "      <th>3</th>\n",
       "      <td>стилистическая</td>\n",
       "    </tr>\n",
       "    <tr>\n",
       "      <th>4</th>\n",
       "      <td>лексическая</td>\n",
       "    </tr>\n",
       "  </tbody>\n",
       "</table>\n",
       "</div>"
      ],
      "text/plain": [
       "  error_type_pred\n",
       "0  стилистическая\n",
       "1  стилистическая\n",
       "2  стилистическая\n",
       "3  стилистическая\n",
       "4     лексическая"
      ]
     },
     "execution_count": 13,
     "metadata": {},
     "output_type": "execute_result"
    }
   ],
   "source": [
    "pred_df = pd.DataFrame(preds)\n",
    "pred_df['error_type_pred'] = pred_df['error_type_pred'].apply(lambda x: x.lower().strip())\n",
    "pred_df.head()"
   ]
  },
  {
   "cell_type": "code",
   "execution_count": 14,
   "metadata": {},
   "outputs": [],
   "source": [
    "pred_df['error_type_pred'] = pred_df['error_type_pred'].apply(lambda x: \"грамматическая\" if x == \"орфографическая\" else x)"
   ]
  },
  {
   "cell_type": "code",
   "execution_count": 15,
   "metadata": {},
   "outputs": [],
   "source": [
    "label_mapper = {\"речевая\": 0, \"стилистическая\": 1, \"пунктуационная\": 2, \"грамматическая\": 3, \"лексическая\": 4, \"логическая\": 5}\n",
    "reverse_label_mapper = {0: \"речевая\", 1: \"стилистическая\", 2: \"пунктуационная\", 3: \"грамматическая\", 4: \"лексическая\", 5: \"логическая\"}"
   ]
  },
  {
   "cell_type": "code",
   "execution_count": 16,
   "metadata": {},
   "outputs": [],
   "source": [
    "pred_df['error_type_pred'] = pred_df['error_type_pred'].map(label_mapper)\n",
    "test_df['type_mistake'] = test_df['type_mistake'].map(label_mapper)"
   ]
  },
  {
   "cell_type": "code",
   "execution_count": 17,
   "metadata": {},
   "outputs": [
    {
     "name": "stdout",
     "output_type": "stream",
     "text": [
      "Accuracy/Multi: 0.23404255319148937\n",
      "F1/Multi: 0.20826397854906628\n",
      "MCC/Multi: 0.05803390503496998\n"
     ]
    }
   ],
   "source": [
    "print(f\"Accuracy/Multi: {accuracy_score(test_df['type_mistake'], pred_df['error_type_pred'])}\")\n",
    "print(f\"F1/Multi: {f1_score(test_df['type_mistake'], pred_df['error_type_pred'], average='macro')}\")\n",
    "print(f\"MCC/Multi: {matthews_corrcoef(test_df['type_mistake'], pred_df['error_type_pred'])}\")"
   ]
  },
  {
   "cell_type": "markdown",
   "metadata": {},
   "source": [
    "# Few-shot"
   ]
  },
  {
   "cell_type": "markdown",
   "metadata": {},
   "source": [
    "## Binary clf and type mistake w no mistakes"
   ]
  },
  {
   "cell_type": "code",
   "execution_count": 31,
   "metadata": {},
   "outputs": [],
   "source": [
    "system_prompt = \"\"\" --Цель--  \n",
    "Ты - квалифицированный лингвист. Читай очень внимательно. Оцени приемлемость текста, написанного студентом технического профиля. \n",
    "Определи, содержит ли текст ошибку (1 — есть, 0 — нет). Если ошибка есть, классифицируй её как одну из следующих категорий:\n",
    "\n",
    "- Речевая: неправильное построение фразы или нарушение логики высказывания.\n",
    "\n",
    "Пример 1:\n",
    "Текст: Международная организация, выпускающая стандарты, привнесла значительный вклад в стандартизацию управления сетевым оборудованием.\n",
    "Исправленный текст: Международная организация, выпускающая стандарты, внесла значительный вклад в стандартизацию управления сетевым оборудованием.\n",
    "Объяснение: Употребление слова в несвойственном контексте.  \n",
    "\n",
    "Пример 2:\n",
    "Текст: В работе проведен анализ и исследование методов испытаний пироустройств на исправность.\n",
    "Исправленный текст: В работе проведен анализ и исследование методов испытаний пироустройств.\n",
    "Объяснение: Неверная речевая конструкция.\n",
    "\n",
    "Пример 3:\n",
    "Текст: Рассмотренные в данной работе гиперграфы представляют из себя расширение традиционной теории графов в случае, когда ребро графа содержит более двух вершин.\n",
    "Исправленный текст: Рассмотренные в данной работе гиперграфы представляют из себя расширение традиционной теории графов в случае, когда его ребро содержит более двух вершин.\n",
    "Объяснение: Тавтология.\n",
    "\n",
    "- Логическая: нарушение логики изложения, противоречия.\n",
    "\n",
    "Пример 1: \n",
    "Текст: Помимо очевидных плюсов, есть так же побочные минусы.\n",
    "Исправленный текст: Помимо очевидных достоинств технологического развития, имеются также недостатки.\n",
    "Объяснение: Не указан процесс, о котором говорится в предложении.\n",
    "\n",
    "Пример 2:\n",
    "Текст: Это достигается за счет добавления избыточных битов при через канал связи.\n",
    "Исправленный текст: Это достигается за счет добавления избыточных битов при передаче через канал связи.\n",
    "Объяснение: Пропущено слово.\n",
    "\n",
    "Пример 3:\n",
    "Текст: Таким образом, работа будет посвящена изучению LDPC-LDGM каскадных кодов, сравнение данного каскада с LDPC-SPARC-кодом.\n",
    "Исправленный текст: Таким образом, работа посвящена изучению LDPC-LDGM каскадных кодов, сравнению данного каскада с LDPC-SPARC-кодом.\n",
    "Объяснение: Используется будущее время \"работа будет посвящена\".\n",
    "\n",
    "- Стилистическая: несоответствие стилю научного/технического текста.\n",
    "\n",
    "Пример 1: \n",
    "Текст: Как видно на схеме, я использую только один канал усилителя TL072.\n",
    "Исправленный текст: Согласно схеме, задействован только один канал усилителя TL072.\n",
    "Объяснение: Нехарактерный для научного стиля оборот.\n",
    "\n",
    "Пример 2:\n",
    "Текст: Этот процесс имеет два основных преимущества: ...\n",
    "Исправленный текст: У этого процесса можно выделить два основных преимущества: …\n",
    "Объяснение: Применено слово \"имеет\".\n",
    "\n",
    "Пример 3:\n",
    "Текст: Телефонные линии голосовой связи, которые были популярны около 15 лет назад, частично заменены сегодня Интернет-телефонией.\n",
    "Исправленный текст: Телефонные линии голосовой связи, которые были популярны около 15 лет назад, сегодня постепенно заменяются интернет-телефонией.\n",
    "Объяснение: Неудачное использование оборота \"частично заменены\" в контексте с \"сегодня\".\n",
    "\n",
    "- Грамматическая: ошибки в склонении, спряжении, согласовании слов.\n",
    "\n",
    "Пример 1:\n",
    "Текст: Защита служебной тайны должна строится на основе комбинированного подхода, …\n",
    "Исправленный текст: Защита служебной тайны должна строиться на основе комбинированного подхода, …\n",
    "Объяснение: \"Строится\" вместо \"строиться\".\n",
    "\n",
    "Пример 2:\n",
    "Текст: Для них выделены два персональных компьютера, осуществляющие вывод изображения на мониторы.\n",
    "Исправленный текст: Для них выделены два персональных компьютера, осуществляющих вывод изображения на мониторы.\n",
    "Объяснение: Неверно выбрана падежная форма причастия.\n",
    "\n",
    "Пример 3:\n",
    "Текст: Существует несколько исследования, схожих с теми, которые выполняются в этой работе.\n",
    "Исправленный текст: Существует несколько исследований, схожих с теми, которые выполняются в этой работе.\n",
    "Объяснение: Ошибка в согласовании членов.\n",
    "\n",
    "- Пунктуационная: пропущенные или избыточные знаки препинания.\n",
    "\n",
    "Пример 1:\n",
    "Текст: Приложение-контроллер системы \"подписывается\" на определенные темы (topics), …\n",
    "Исправленный текст: Приложение-контроллер системы «подписывается» на определенные темы (topics), …\n",
    "Объяснение: Неправильные кавычки.\n",
    "\n",
    "Пример 2:\n",
    "Текст: Вследствие чего для тестирования робота как системы необходимо применять комбинацию стандартов предъявляемых к его составным, частям, …\n",
    "Исправленный текст: Вследствие чего для тестирования робота как системы необходимо применять комбинацию стандартов, предъявляемых к его составным частям, …\n",
    "Объяснение: Не хватает запятой в причастном обороте.\n",
    "\n",
    "Пример 3\n",
    "Текст: Отслеживание таких событий вручную требует внимания членов съемочной группы, или даже специально выделенных под эту задачу сотрудников.\n",
    "Исправленный текст: Отслеживание таких событий вручную требует внимания членов съемочной группы или даже специально выделенных под эту задачу сотрудников.\n",
    "Объяснение: Лишняя запятая между однородными членами предложения, соединёнными союзом \"или\".\n",
    "\n",
    "- Лексическая: неправильный выбор слова.\n",
    "\n",
    "Пример 1:\n",
    "Текст: С развитием цифровых технологий и расширением интернета стало намного проще обмениваться данными.\n",
    "Исправленный текст: С развитием цифровых технологий и распространением интернета стало проще обмениваться данными.\n",
    "Объяснение: Неверный выбор выражения \"расширение интернета\".\n",
    "\n",
    "Пример 2:\n",
    "Текст: Необходимо внести суть графика в его названии (заголовке).\n",
    "Исправленный текст: Необходимо отразить суть графика в его названии (заголовке).\n",
    "Объяснение: Использование слова \"внести\" в несвойственном значении.\n",
    "\n",
    "Пример 3:\n",
    "Текст: Используя Python и среду разработки PyCharm, были созданы модели для определения необходимого количества базовых станций и их радиуса действия для обеспечения надёжного соединения.\n",
    "Исправленный текст: Используя Python и среду PyCharm, были разработаны модели для определения необходимого количества базовых станций и их радиуса действия для обеспечения надёжного соединения.\n",
    "Объяснение: Программы разрабатываются а не создаются.\n",
    "\n",
    "--Примеры без ошибок--\n",
    "\n",
    "Пример 1: \n",
    "Текст: Эта проблема была решена использованием нейронных сетей глубокого обучения.\n",
    "\n",
    "Пример 2: \n",
    "Текст: Такие автономные системы соединены с инфраструктурными IXP и имеют глобальный или континентальный географический охват.\n",
    "\n",
    "Пример 3: \n",
    "Текст: В этих системах в основном отсутствуют встроенные средства защиты от утечек информации.\n",
    "\n",
    "--Формат ответа-- \n",
    "\n",
    "Оъяснение ответа не нужно!\n",
    "\n",
    "- Выведи ключевые слова в формате JSON.\n",
    "- JSON должен содержать два ключа:\n",
    "  - \"is_mistake_pred\"\n",
    "  - \"error_type_pred\"\n",
    "\n",
    "Если ошибка есть:\n",
    "\n",
    "```json\n",
    "{\n",
    "  \"is_mistake_pred\": 1,\n",
    "  \"error_type_pred\": \"тип ошибки\"\n",
    "}\n",
    "```\n",
    "\n",
    "Если ошибки нет:\n",
    "\n",
    "```json\n",
    "{\n",
    "  \"is_mistake_pred\": 0,\n",
    "  \"error_type_pred\": \"нет ошибки\"\n",
    "}\n",
    "```\n",
    "\n",
    "Текст: \n",
    "\"\"\""
   ]
  },
  {
   "cell_type": "code",
   "execution_count": 32,
   "metadata": {},
   "outputs": [
    {
     "data": {
      "application/vnd.jupyter.widget-view+json": {
       "model_id": "d1f5d3358f1b48158dcb1feeb1eb1114",
       "version_major": 2,
       "version_minor": 0
      },
      "text/plain": [
       "  0%|          | 0/197 [00:00<?, ?it/s]"
      ]
     },
     "metadata": {},
     "output_type": "display_data"
    }
   ],
   "source": [
    "preds = []\n",
    "for i, v in tqdm(enumerate(test_df.text.values), total=len(test_df)):\n",
    "    out = generate_llm_answer(system_prompt, v, model_like='gemma')\n",
    "    try:\n",
    "        struct_out = extract_answer_from_json(out)\n",
    "        preds.append(struct_out)\n",
    "    except Exception as e:\n",
    "        print(f\"Error extractuin json from index {i}: {e}\")\n",
    "        bad_output = {\"is_mistake_pred\": 1, \"error_type_pred\": \"не определена\"}\n",
    "        preds.append(bad_output)"
   ]
  },
  {
   "cell_type": "code",
   "execution_count": 12,
   "metadata": {},
   "outputs": [
    {
     "data": {
      "text/html": [
       "<div>\n",
       "<style scoped>\n",
       "    .dataframe tbody tr th:only-of-type {\n",
       "        vertical-align: middle;\n",
       "    }\n",
       "\n",
       "    .dataframe tbody tr th {\n",
       "        vertical-align: top;\n",
       "    }\n",
       "\n",
       "    .dataframe thead th {\n",
       "        text-align: right;\n",
       "    }\n",
       "</style>\n",
       "<table border=\"1\" class=\"dataframe\">\n",
       "  <thead>\n",
       "    <tr style=\"text-align: right;\">\n",
       "      <th></th>\n",
       "      <th>is_mistake_pred</th>\n",
       "      <th>error_type_pred</th>\n",
       "    </tr>\n",
       "  </thead>\n",
       "  <tbody>\n",
       "    <tr>\n",
       "      <th>0</th>\n",
       "      <td>0</td>\n",
       "      <td>нет ошибки</td>\n",
       "    </tr>\n",
       "    <tr>\n",
       "      <th>1</th>\n",
       "      <td>1</td>\n",
       "      <td>пунктуационная</td>\n",
       "    </tr>\n",
       "    <tr>\n",
       "      <th>2</th>\n",
       "      <td>1</td>\n",
       "      <td>стилистическая</td>\n",
       "    </tr>\n",
       "    <tr>\n",
       "      <th>3</th>\n",
       "      <td>1</td>\n",
       "      <td>речевая</td>\n",
       "    </tr>\n",
       "    <tr>\n",
       "      <th>4</th>\n",
       "      <td>1</td>\n",
       "      <td>лексическая</td>\n",
       "    </tr>\n",
       "  </tbody>\n",
       "</table>\n",
       "</div>"
      ],
      "text/plain": [
       "   is_mistake_pred error_type_pred\n",
       "0                0      нет ошибки\n",
       "1                1  пунктуационная\n",
       "2                1  стилистическая\n",
       "3                1         речевая\n",
       "4                1     лексическая"
      ]
     },
     "execution_count": 12,
     "metadata": {},
     "output_type": "execute_result"
    }
   ],
   "source": [
    "pred_df = pd.DataFrame(preds)\n",
    "pred_df['error_type_pred'] = pred_df['error_type_pred'].apply(lambda x: x.lower().strip())\n",
    "pred_df.head()"
   ]
  },
  {
   "cell_type": "code",
   "execution_count": 14,
   "metadata": {},
   "outputs": [],
   "source": [
    "pred_df['error_type_pred'] = pred_df['error_type_pred'].apply(lambda x: \"грамматическая\" if x == \"орфографическая\" else x)"
   ]
  },
  {
   "cell_type": "code",
   "execution_count": 15,
   "metadata": {},
   "outputs": [
    {
     "name": "stdout",
     "output_type": "stream",
     "text": [
      "Accuracy/Binary: 0.6700507614213198\n",
      "F1/Binary: 0.6666666666666666\n",
      "MCC/Binray: 0.34172782166446486\n"
     ]
    }
   ],
   "source": [
    "print(f\"Accuracy/Binary: {accuracy_score(test_df['is_mistake'], pred_df['is_mistake_pred'])}\")\n",
    "print(f\"F1/Binary: {f1_score(test_df['is_mistake'], pred_df['is_mistake_pred'])}\")\n",
    "print(f\"MCC/Binray: {matthews_corrcoef(test_df['is_mistake'], pred_df['is_mistake_pred'])}\")"
   ]
  },
  {
   "cell_type": "code",
   "execution_count": 16,
   "metadata": {},
   "outputs": [],
   "source": [
    "label_mapper = {\"нет ошибки\": 0, \"речевая\": 1, \"стилистическая\": 2, \"пунктуационная\": 3, \"грамматическая\": 4, \"лексическая\": 5, \"логическая\": 6}\n",
    "reverse_label_mapper = {0: \"нет ошибки\", 1: \"речевая\", 2: \"стилистическая\", 3: \"пунктуационная\", 4: \"грамматическая\", 5: \"лексическая\", 6: \"логическая\"}"
   ]
  },
  {
   "cell_type": "code",
   "execution_count": 17,
   "metadata": {},
   "outputs": [],
   "source": [
    "pred_df['error_type_pred'] = pred_df['error_type_pred'].map(label_mapper)\n",
    "test_df['type_mistake'] = test_df['type_mistake'].map(label_mapper)"
   ]
  },
  {
   "cell_type": "code",
   "execution_count": 18,
   "metadata": {},
   "outputs": [
    {
     "name": "stdout",
     "output_type": "stream",
     "text": [
      "Accuracy/Multi: 0.41624365482233505\n",
      "F1/Multi: 0.21599074431989004\n",
      "MCC/Multi: 0.17243656541738137\n"
     ]
    }
   ],
   "source": [
    "# w no mistakes\n",
    "print(f\"Accuracy/Multi: {accuracy_score(test_df['type_mistake'], pred_df['error_type_pred'])}\")\n",
    "print(f\"F1/Multi: {f1_score(test_df['type_mistake'], pred_df['error_type_pred'], average='macro')}\")\n",
    "print(f\"MCC/Multi: {matthews_corrcoef(test_df['type_mistake'], pred_df['error_type_pred'])}\")"
   ]
  },
  {
   "cell_type": "markdown",
   "metadata": {},
   "source": [
    "## Only binary"
   ]
  },
  {
   "cell_type": "code",
   "execution_count": 14,
   "metadata": {},
   "outputs": [],
   "source": [
    "system_prompt = \"\"\" --Цель--  \n",
    "Ты - квалифицированный лингвист. Читай очень внимательно. Оцени приемлемость текста, написанного студентом технического профиля. \n",
    "Определи, содержит ли текст ошибку (1 — есть, 0 — нет). Ошибки могут быть следующего вида:\n",
    "\n",
    "- Речевая: неправильное построение фразы или нарушение логики высказывания.\n",
    "\n",
    "Пример:\n",
    "Текст: В работе проведен анализ и исследование методов испытаний пироустройств на исправность.\n",
    "Исправленный текст: В работе проведен анализ и исследование методов испытаний пироустройств.\n",
    "Объяснение: Неверная речевая конструкция.\n",
    "\n",
    "- Логическая: нарушение логики изложения, противоречия.\n",
    "\n",
    "Пример:\n",
    "Текст: Это достигается за счет добавления избыточных битов при через канал связи.\n",
    "Исправленный текст: Это достигается за счет добавления избыточных битов при передаче через канал связи.\n",
    "Объяснение: Пропущено слово.\n",
    "\n",
    "- Стилистическая: несоответствие стилю научного/технического текста.\n",
    "\n",
    "Пример:\n",
    "Текст: Этот процесс имеет два основных преимущества: ...\n",
    "Исправленный текст: У этого процесса можно выделить два основных преимущества: …\n",
    "Объяснение: Применено слово \"имеет\".\n",
    "\n",
    "- Грамматическая: ошибки в склонении, спряжении, согласовании слов.\n",
    "\n",
    "Пример:\n",
    "Текст: Для них выделены два персональных компьютера, осуществляющие вывод изображения на мониторы.\n",
    "Исправленный текст: Для них выделены два персональных компьютера, осуществляющих вывод изображения на мониторы.\n",
    "Объяснение: Неверно выбрана падежная форма причастия.\n",
    "\n",
    "- Пунктуационная: пропущенные или избыточные знаки препинания.\n",
    "\n",
    "Пример:\n",
    "Текст: Вследствие чего для тестирования робота как системы необходимо применять комбинацию стандартов предъявляемых к его составным, частям, …\n",
    "Исправленный текст: Вследствие чего для тестирования робота как системы необходимо применять комбинацию стандартов, предъявляемых к его составным частям, …\n",
    "Объяснение: Не хватает запятой в причастном обороте.\n",
    "\n",
    "- Лексическая: неправильный выбор слова.\n",
    "\n",
    "Пример:\n",
    "Текст: Необходимо внести суть графика в его названии (заголовке).\n",
    "Исправленный текст: Необходимо отразить суть графика в его названии (заголовке).\n",
    "Объяснение: Использование слова \"внести\" в несвойственном значении.\n",
    "\n",
    "--Примеры без ошибок--\n",
    "\n",
    "Пример 1: \n",
    "Текст: Эта проблема была решена использованием нейронных сетей глубокого обучения.\n",
    "\n",
    "Пример 2: \n",
    "Текст: Такие автономные системы соединены с инфраструктурными IXP и имеют глобальный или континентальный географический охват.\n",
    "\n",
    "Пример 3: \n",
    "Текст: В этих системах в основном отсутствуют встроенные средства защиты от утечек информации.\n",
    "\n",
    "--Формат ответа-- \n",
    "\n",
    "Оъяснение ответа не нужно!\n",
    "\n",
    "- Выведи ключевые слова в формате JSON.\n",
    "- JSON должен содержать ключ:\n",
    "  - \"is_mistake_pred\"\n",
    "\n",
    "Пример:\n",
    "\n",
    "```json\n",
    "{\n",
    "  \"is_mistake_pred\": \"1 или 0\"\n",
    "}\n",
    "```\n",
    "\n",
    "Текст: \n",
    "\"\"\""
   ]
  },
  {
   "cell_type": "code",
   "execution_count": 15,
   "metadata": {},
   "outputs": [
    {
     "data": {
      "application/vnd.jupyter.widget-view+json": {
       "model_id": "4937ce82d211456abd65de9321b780fa",
       "version_major": 2,
       "version_minor": 0
      },
      "text/plain": [
       "  0%|          | 0/197 [00:00<?, ?it/s]"
      ]
     },
     "metadata": {},
     "output_type": "display_data"
    }
   ],
   "source": [
    "preds = []\n",
    "for i, v in tqdm(enumerate(test_df.text.values), total=len(test_df)):\n",
    "    out = generate_llm_answer(system_prompt, v, model_like='gemma')\n",
    "    try:\n",
    "        struct_out = extract_answer_from_json(out)\n",
    "        preds.append(struct_out)\n",
    "    except Exception as e:\n",
    "        print(f\"Error extractuin json from index {i}: {e}\")\n",
    "        bad_output = {\"is_mistake_pred\": 1}\n",
    "        preds.append(bad_output)"
   ]
  },
  {
   "cell_type": "code",
   "execution_count": 15,
   "metadata": {},
   "outputs": [
    {
     "data": {
      "text/html": [
       "<div>\n",
       "<style scoped>\n",
       "    .dataframe tbody tr th:only-of-type {\n",
       "        vertical-align: middle;\n",
       "    }\n",
       "\n",
       "    .dataframe tbody tr th {\n",
       "        vertical-align: top;\n",
       "    }\n",
       "\n",
       "    .dataframe thead th {\n",
       "        text-align: right;\n",
       "    }\n",
       "</style>\n",
       "<table border=\"1\" class=\"dataframe\">\n",
       "  <thead>\n",
       "    <tr style=\"text-align: right;\">\n",
       "      <th></th>\n",
       "      <th>is_mistake_pred</th>\n",
       "    </tr>\n",
       "  </thead>\n",
       "  <tbody>\n",
       "    <tr>\n",
       "      <th>0</th>\n",
       "      <td>0.0</td>\n",
       "    </tr>\n",
       "    <tr>\n",
       "      <th>1</th>\n",
       "      <td>1.0</td>\n",
       "    </tr>\n",
       "    <tr>\n",
       "      <th>2</th>\n",
       "      <td>1.0</td>\n",
       "    </tr>\n",
       "    <tr>\n",
       "      <th>3</th>\n",
       "      <td>1.0</td>\n",
       "    </tr>\n",
       "    <tr>\n",
       "      <th>4</th>\n",
       "      <td>1.0</td>\n",
       "    </tr>\n",
       "  </tbody>\n",
       "</table>\n",
       "</div>"
      ],
      "text/plain": [
       "   is_mistake_pred\n",
       "0              0.0\n",
       "1              1.0\n",
       "2              1.0\n",
       "3              1.0\n",
       "4              1.0"
      ]
     },
     "execution_count": 15,
     "metadata": {},
     "output_type": "execute_result"
    }
   ],
   "source": [
    "pred_df = pd.DataFrame(preds)\n",
    "pred_df['is_mistake_pred'] = pred_df['is_mistake_pred'].apply(lambda x: float(x))\n",
    "pred_df.head()"
   ]
  },
  {
   "cell_type": "code",
   "execution_count": 16,
   "metadata": {},
   "outputs": [
    {
     "name": "stdout",
     "output_type": "stream",
     "text": [
      "Accuracy/Binary: 0.6446700507614214\n",
      "F1/Binary: 0.6022727272727273\n",
      "MCC/Binray: 0.2860231901137858\n"
     ]
    }
   ],
   "source": [
    "print(f\"Accuracy/Binary: {accuracy_score(test_df['is_mistake'], pred_df['is_mistake_pred'])}\")\n",
    "print(f\"F1/Binary: {f1_score(test_df['is_mistake'], pred_df['is_mistake_pred'])}\")\n",
    "print(f\"MCC/Binray: {matthews_corrcoef(test_df['is_mistake'], pred_df['is_mistake_pred'])}\")"
   ]
  },
  {
   "cell_type": "markdown",
   "metadata": {},
   "source": [
    "## Multi-class w/o no mistakes"
   ]
  },
  {
   "cell_type": "code",
   "execution_count": 11,
   "metadata": {},
   "outputs": [],
   "source": [
    "system_prompt = \"\"\" --Цель--  \n",
    "Ты - квалифицированный лингвист. Читай очень внимательно. Классифицируй ошибку в тексте как одну из следующих категорий:\n",
    "\n",
    "- Речевая: неправильное построение фразы или нарушение логики высказывания.\n",
    "\n",
    "Пример 1:\n",
    "Текст: Международная организация, выпускающая стандарты, привнесла значительный вклад в стандартизацию управления сетевым оборудованием.\n",
    "Исправленный текст: Международная организация, выпускающая стандарты, внесла значительный вклад в стандартизацию управления сетевым оборудованием.\n",
    "Объяснение: Употребление слова в несвойственном контексте.  \n",
    "\n",
    "Пример 2:\n",
    "Текст: В работе проведен анализ и исследование методов испытаний пироустройств на исправность.\n",
    "Исправленный текст: В работе проведен анализ и исследование методов испытаний пироустройств.\n",
    "Объяснение: Неверная речевая конструкция.\n",
    "\n",
    "Пример 3:\n",
    "Текст: Рассмотренные в данной работе гиперграфы представляют из себя расширение традиционной теории графов в случае, когда ребро графа содержит более двух вершин.\n",
    "Исправленный текст: Рассмотренные в данной работе гиперграфы представляют из себя расширение традиционной теории графов в случае, когда его ребро содержит более двух вершин.\n",
    "Объяснение: Тавтология.\n",
    "\n",
    "- Логическая: нарушение логики изложения, противоречия.\n",
    "\n",
    "Пример 1: \n",
    "Текст: Помимо очевидных плюсов, есть так же побочные минусы.\n",
    "Исправленный текст: Помимо очевидных достоинств технологического развития, имеются также недостатки.\n",
    "Объяснение: Не указан процесс, о котором говорится в предложении.\n",
    "\n",
    "Пример 2:\n",
    "Текст: Это достигается за счет добавления избыточных битов при через канал связи.\n",
    "Исправленный текст: Это достигается за счет добавления избыточных битов при передаче через канал связи.\n",
    "Объяснение: Пропущено слово.\n",
    "\n",
    "Пример 3:\n",
    "Текст: Таким образом, работа будет посвящена изучению LDPC-LDGM каскадных кодов, сравнение данного каскада с LDPC-SPARC-кодом.\n",
    "Исправленный текст: Таким образом, работа посвящена изучению LDPC-LDGM каскадных кодов, сравнению данного каскада с LDPC-SPARC-кодом.\n",
    "Объяснение: Используется будущее время \"работа будет посвящена\".\n",
    "\n",
    "- Стилистическая: несоответствие стилю научного/технического текста.\n",
    "\n",
    "Пример 1: \n",
    "Текст: Как видно на схеме, я использую только один канал усилителя TL072.\n",
    "Исправленный текст: Согласно схеме, задействован только один канал усилителя TL072.\n",
    "Объяснение: Нехарактерный для научного стиля оборот.\n",
    "\n",
    "Пример 2:\n",
    "Текст: Этот процесс имеет два основных преимущества: ...\n",
    "Исправленный текст: У этого процесса можно выделить два основных преимущества: …\n",
    "Объяснение: Применено слово \"имеет\".\n",
    "\n",
    "Пример 3:\n",
    "Текст: Телефонные линии голосовой связи, которые были популярны около 15 лет назад, частично заменены сегодня Интернет-телефонией.\n",
    "Исправленный текст: Телефонные линии голосовой связи, которые были популярны около 15 лет назад, сегодня постепенно заменяются интернет-телефонией.\n",
    "Объяснение: Неудачное использование оборота \"частично заменены\" в контексте с \"сегодня\".\n",
    "\n",
    "- Грамматическая: ошибки в склонении, спряжении, согласовании слов.\n",
    "\n",
    "Пример 1:\n",
    "Текст: Защита служебной тайны должна строится на основе комбинированного подхода, …\n",
    "Исправленный текст: Защита служебной тайны должна строиться на основе комбинированного подхода, …\n",
    "Объяснение: \"Строится\" вместо \"строиться\".\n",
    "\n",
    "Пример 2:\n",
    "Текст: Для них выделены два персональных компьютера, осуществляющие вывод изображения на мониторы.\n",
    "Исправленный текст: Для них выделены два персональных компьютера, осуществляющих вывод изображения на мониторы.\n",
    "Объяснение: Неверно выбрана падежная форма причастия.\n",
    "\n",
    "Пример 3:\n",
    "Текст: Существует несколько исследования, схожих с теми, которые выполняются в этой работе.\n",
    "Исправленный текст: Существует несколько исследований, схожих с теми, которые выполняются в этой работе.\n",
    "Объяснение: Ошибка в согласовании членов.\n",
    "\n",
    "- Пунктуационная: пропущенные или избыточные знаки препинания.\n",
    "\n",
    "Пример 1:\n",
    "Текст: Приложение-контроллер системы \"подписывается\" на определенные темы (topics), …\n",
    "Исправленный текст: Приложение-контроллер системы «подписывается» на определенные темы (topics), …\n",
    "Объяснение: Неправильные кавычки.\n",
    "\n",
    "Пример 2:\n",
    "Текст: Вследствие чего для тестирования робота как системы необходимо применять комбинацию стандартов предъявляемых к его составным, частям, …\n",
    "Исправленный текст: Вследствие чего для тестирования робота как системы необходимо применять комбинацию стандартов, предъявляемых к его составным частям, …\n",
    "Объяснение: Не хватает запятой в причастном обороте.\n",
    "\n",
    "Пример 3\n",
    "Текст: Отслеживание таких событий вручную требует внимания членов съемочной группы, или даже специально выделенных под эту задачу сотрудников.\n",
    "Исправленный текст: Отслеживание таких событий вручную требует внимания членов съемочной группы или даже специально выделенных под эту задачу сотрудников.\n",
    "Объяснение: Лишняя запятая между однородными членами предложения, соединёнными союзом \"или\".\n",
    "\n",
    "- Лексическая: неправильный выбор слова.\n",
    "\n",
    "Пример 1:\n",
    "Текст: С развитием цифровых технологий и расширением интернета стало намного проще обмениваться данными.\n",
    "Исправленный текст: С развитием цифровых технологий и распространением интернета стало проще обмениваться данными.\n",
    "Объяснение: Неверный выбор выражения \"расширение интернета\".\n",
    "\n",
    "Пример 2:\n",
    "Текст: Необходимо внести суть графика в его названии (заголовке).\n",
    "Исправленный текст: Необходимо отразить суть графика в его названии (заголовке).\n",
    "Объяснение: Использование слова \"внести\" в несвойственном значении.\n",
    "\n",
    "Пример 3:\n",
    "Текст: Используя Python и среду разработки PyCharm, были созданы модели для определения необходимого количества базовых станций и их радиуса действия для обеспечения надёжного соединения.\n",
    "Исправленный текст: Используя Python и среду PyCharm, были разработаны модели для определения необходимого количества базовых станций и их радиуса действия для обеспечения надёжного соединения.\n",
    "Объяснение: Программы разрабатываются а не создаются.\n",
    "\n",
    "--Формат ответа-- \n",
    "\n",
    "Оъяснение ответа не нужно!\n",
    "\n",
    "- Выведи ключевые слова в формате JSON.\n",
    "- JSON должен содержать ключ:\n",
    "  - \"error_type_pred\"\n",
    "\n",
    "Пример: \n",
    "\n",
    "```json\n",
    "{\n",
    "  \"error_type_pred\": \"тип ошибки\"\n",
    "}\n",
    "```\n",
    "\n",
    "Текст: \n",
    "\"\"\""
   ]
  },
  {
   "cell_type": "code",
   "execution_count": 12,
   "metadata": {},
   "outputs": [],
   "source": [
    "train_df = train_df[train_df['type_mistake'] != \"нет ошибки\"]\n",
    "test_df = test_df[test_df['type_mistake'] != \"нет ошибки\"]"
   ]
  },
  {
   "cell_type": "code",
   "execution_count": 13,
   "metadata": {},
   "outputs": [
    {
     "data": {
      "application/vnd.jupyter.widget-view+json": {
       "model_id": "81fd9d4fc6f44dcaa7f87deaaf6ca413",
       "version_major": 2,
       "version_minor": 0
      },
      "text/plain": [
       "  0%|          | 0/94 [00:00<?, ?it/s]"
      ]
     },
     "metadata": {},
     "output_type": "display_data"
    }
   ],
   "source": [
    "preds = []\n",
    "for i, v in tqdm(enumerate(test_df.text.values), total=len(test_df)):\n",
    "    out = generate_llm_answer(system_prompt, v, model_like='gemma')\n",
    "    try:\n",
    "        struct_out = extract_answer_from_json(out)\n",
    "        preds.append(struct_out)\n",
    "    except Exception as e:\n",
    "        print(f\"Error extractuin json from index {i}: {e}\")\n",
    "        bad_output = {\"error_type_pred\": \"не определена\"}\n",
    "        preds.append(bad_output)"
   ]
  },
  {
   "cell_type": "code",
   "execution_count": 14,
   "metadata": {},
   "outputs": [
    {
     "data": {
      "text/html": [
       "<div>\n",
       "<style scoped>\n",
       "    .dataframe tbody tr th:only-of-type {\n",
       "        vertical-align: middle;\n",
       "    }\n",
       "\n",
       "    .dataframe tbody tr th {\n",
       "        vertical-align: top;\n",
       "    }\n",
       "\n",
       "    .dataframe thead th {\n",
       "        text-align: right;\n",
       "    }\n",
       "</style>\n",
       "<table border=\"1\" class=\"dataframe\">\n",
       "  <thead>\n",
       "    <tr style=\"text-align: right;\">\n",
       "      <th></th>\n",
       "      <th>error_type_pred</th>\n",
       "    </tr>\n",
       "  </thead>\n",
       "  <tbody>\n",
       "    <tr>\n",
       "      <th>0</th>\n",
       "      <td>стилистическая</td>\n",
       "    </tr>\n",
       "    <tr>\n",
       "      <th>1</th>\n",
       "      <td>стилистическая</td>\n",
       "    </tr>\n",
       "    <tr>\n",
       "      <th>2</th>\n",
       "      <td>речевая</td>\n",
       "    </tr>\n",
       "    <tr>\n",
       "      <th>3</th>\n",
       "      <td>лексическая</td>\n",
       "    </tr>\n",
       "    <tr>\n",
       "      <th>4</th>\n",
       "      <td>лексическая</td>\n",
       "    </tr>\n",
       "  </tbody>\n",
       "</table>\n",
       "</div>"
      ],
      "text/plain": [
       "  error_type_pred\n",
       "0  стилистическая\n",
       "1  стилистическая\n",
       "2         речевая\n",
       "3     лексическая\n",
       "4     лексическая"
      ]
     },
     "execution_count": 14,
     "metadata": {},
     "output_type": "execute_result"
    }
   ],
   "source": [
    "pred_df = pd.DataFrame(preds)\n",
    "pred_df['error_type_pred'] = pred_df['error_type_pred'].apply(lambda x: x.lower().strip())\n",
    "pred_df.head()"
   ]
  },
  {
   "cell_type": "code",
   "execution_count": 15,
   "metadata": {},
   "outputs": [],
   "source": [
    "pred_df['error_type_pred'] = pred_df['error_type_pred'].apply(lambda x: \"грамматическая\" if x == \"орфографическая\" else x)"
   ]
  },
  {
   "cell_type": "code",
   "execution_count": 16,
   "metadata": {},
   "outputs": [],
   "source": [
    "label_mapper = {\"речевая\": 0, \"стилистическая\": 1, \"пунктуационная\": 2, \"грамматическая\": 3, \"лексическая\": 4, \"логическая\": 5}\n",
    "reverse_label_mapper = {0: \"речевая\", 1: \"стилистическая\", 2: \"пунктуационная\", 3: \"грамматическая\", 4: \"лексическая\", 5: \"логическая\"}"
   ]
  },
  {
   "cell_type": "code",
   "execution_count": 17,
   "metadata": {},
   "outputs": [],
   "source": [
    "pred_df['error_type_pred'] = pred_df['error_type_pred'].map(label_mapper)\n",
    "test_df['type_mistake'] = test_df['type_mistake'].map(label_mapper)"
   ]
  },
  {
   "cell_type": "code",
   "execution_count": 18,
   "metadata": {},
   "outputs": [
    {
     "name": "stdout",
     "output_type": "stream",
     "text": [
      "Accuracy/Multi: 0.23404255319148937\n",
      "F1/Multi: 0.18771919692972325\n",
      "MCC/Multi: 0.06807212487652928\n"
     ]
    }
   ],
   "source": [
    "print(f\"Accuracy/Multi: {accuracy_score(test_df['type_mistake'], pred_df['error_type_pred'])}\")\n",
    "print(f\"F1/Multi: {f1_score(test_df['type_mistake'], pred_df['error_type_pred'], average='macro')}\")\n",
    "print(f\"MCC/Multi: {matthews_corrcoef(test_df['type_mistake'], pred_df['error_type_pred'])}\")"
   ]
  },
  {
   "cell_type": "code",
   "execution_count": null,
   "metadata": {},
   "outputs": [],
   "source": []
  }
 ],
 "metadata": {
  "kernelspec": {
   "display_name": "mark_env",
   "language": "python",
   "name": "python3"
  },
  "language_info": {
   "codemirror_mode": {
    "name": "ipython",
    "version": 3
   },
   "file_extension": ".py",
   "mimetype": "text/x-python",
   "name": "python",
   "nbconvert_exporter": "python",
   "pygments_lexer": "ipython3",
   "version": "3.10.12"
  }
 },
 "nbformat": 4,
 "nbformat_minor": 2
}
