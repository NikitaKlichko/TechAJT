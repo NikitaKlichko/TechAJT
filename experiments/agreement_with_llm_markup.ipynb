{
  "nbformat": 4,
  "nbformat_minor": 0,
  "metadata": {
    "colab": {
      "provenance": []
    },
    "kernelspec": {
      "name": "python3",
      "display_name": "Python 3"
    },
    "language_info": {
      "name": "python"
    }
  },
  "cells": [
    {
      "cell_type": "code",
      "execution_count": 1,
      "metadata": {
        "id": "P9Uwuf03RzMw"
      },
      "outputs": [],
      "source": [
        "import pandas as pd\n",
        "import numpy as np\n",
        "import seaborn as sns\n",
        "import matplotlib.pyplot as plt\n",
        "\n",
        "plt.style.use( 'seaborn-v0_8-paper')"
      ]
    },
    {
      "cell_type": "code",
      "source": [
        "!pip install crowd-kit"
      ],
      "metadata": {
        "colab": {
          "base_uri": "https://localhost:8080/"
        },
        "id": "WUArmJw8XQfq",
        "outputId": "ffc9f38c-4ee6-4482-d476-005c119ee72a"
      },
      "execution_count": 2,
      "outputs": [
        {
          "output_type": "stream",
          "name": "stdout",
          "text": [
            "Collecting crowd-kit\n",
            "  Downloading crowd_kit-1.4.1-py3-none-any.whl.metadata (10 kB)\n",
            "Requirement already satisfied: attrs in /usr/local/lib/python3.11/dist-packages (from crowd-kit) (25.3.0)\n",
            "Requirement already satisfied: nltk in /usr/local/lib/python3.11/dist-packages (from crowd-kit) (3.9.1)\n",
            "Requirement already satisfied: numpy in /usr/local/lib/python3.11/dist-packages (from crowd-kit) (2.0.2)\n",
            "Requirement already satisfied: pandas>=1.1.0 in /usr/local/lib/python3.11/dist-packages (from crowd-kit) (2.2.2)\n",
            "Requirement already satisfied: pyarrow in /usr/local/lib/python3.11/dist-packages (from crowd-kit) (18.1.0)\n",
            "Requirement already satisfied: scikit-learn in /usr/local/lib/python3.11/dist-packages (from crowd-kit) (1.6.1)\n",
            "Requirement already satisfied: tqdm in /usr/local/lib/python3.11/dist-packages (from crowd-kit) (4.67.1)\n",
            "Requirement already satisfied: transformers in /usr/local/lib/python3.11/dist-packages (from crowd-kit) (4.50.0)\n",
            "Requirement already satisfied: python-dateutil>=2.8.2 in /usr/local/lib/python3.11/dist-packages (from pandas>=1.1.0->crowd-kit) (2.8.2)\n",
            "Requirement already satisfied: pytz>=2020.1 in /usr/local/lib/python3.11/dist-packages (from pandas>=1.1.0->crowd-kit) (2025.1)\n",
            "Requirement already satisfied: tzdata>=2022.7 in /usr/local/lib/python3.11/dist-packages (from pandas>=1.1.0->crowd-kit) (2025.1)\n",
            "Requirement already satisfied: click in /usr/local/lib/python3.11/dist-packages (from nltk->crowd-kit) (8.1.8)\n",
            "Requirement already satisfied: joblib in /usr/local/lib/python3.11/dist-packages (from nltk->crowd-kit) (1.4.2)\n",
            "Requirement already satisfied: regex>=2021.8.3 in /usr/local/lib/python3.11/dist-packages (from nltk->crowd-kit) (2024.11.6)\n",
            "Requirement already satisfied: scipy>=1.6.0 in /usr/local/lib/python3.11/dist-packages (from scikit-learn->crowd-kit) (1.14.1)\n",
            "Requirement already satisfied: threadpoolctl>=3.1.0 in /usr/local/lib/python3.11/dist-packages (from scikit-learn->crowd-kit) (3.6.0)\n",
            "Requirement already satisfied: filelock in /usr/local/lib/python3.11/dist-packages (from transformers->crowd-kit) (3.18.0)\n",
            "Requirement already satisfied: huggingface-hub<1.0,>=0.26.0 in /usr/local/lib/python3.11/dist-packages (from transformers->crowd-kit) (0.29.3)\n",
            "Requirement already satisfied: packaging>=20.0 in /usr/local/lib/python3.11/dist-packages (from transformers->crowd-kit) (24.2)\n",
            "Requirement already satisfied: pyyaml>=5.1 in /usr/local/lib/python3.11/dist-packages (from transformers->crowd-kit) (6.0.2)\n",
            "Requirement already satisfied: requests in /usr/local/lib/python3.11/dist-packages (from transformers->crowd-kit) (2.32.3)\n",
            "Requirement already satisfied: tokenizers<0.22,>=0.21 in /usr/local/lib/python3.11/dist-packages (from transformers->crowd-kit) (0.21.1)\n",
            "Requirement already satisfied: safetensors>=0.4.3 in /usr/local/lib/python3.11/dist-packages (from transformers->crowd-kit) (0.5.3)\n",
            "Requirement already satisfied: fsspec>=2023.5.0 in /usr/local/lib/python3.11/dist-packages (from huggingface-hub<1.0,>=0.26.0->transformers->crowd-kit) (2025.3.0)\n",
            "Requirement already satisfied: typing-extensions>=3.7.4.3 in /usr/local/lib/python3.11/dist-packages (from huggingface-hub<1.0,>=0.26.0->transformers->crowd-kit) (4.12.2)\n",
            "Requirement already satisfied: six>=1.5 in /usr/local/lib/python3.11/dist-packages (from python-dateutil>=2.8.2->pandas>=1.1.0->crowd-kit) (1.17.0)\n",
            "Requirement already satisfied: charset-normalizer<4,>=2 in /usr/local/lib/python3.11/dist-packages (from requests->transformers->crowd-kit) (3.4.1)\n",
            "Requirement already satisfied: idna<4,>=2.5 in /usr/local/lib/python3.11/dist-packages (from requests->transformers->crowd-kit) (3.10)\n",
            "Requirement already satisfied: urllib3<3,>=1.21.1 in /usr/local/lib/python3.11/dist-packages (from requests->transformers->crowd-kit) (2.3.0)\n",
            "Requirement already satisfied: certifi>=2017.4.17 in /usr/local/lib/python3.11/dist-packages (from requests->transformers->crowd-kit) (2025.1.31)\n",
            "Downloading crowd_kit-1.4.1-py3-none-any.whl (89 kB)\n",
            "\u001b[2K   \u001b[90m━━━━━━━━━━━━━━━━━━━━━━━━━━━━━━━━━━━━━━━━\u001b[0m \u001b[32m89.2/89.2 kB\u001b[0m \u001b[31m1.8 MB/s\u001b[0m eta \u001b[36m0:00:00\u001b[0m\n",
            "\u001b[?25hInstalling collected packages: crowd-kit\n",
            "Successfully installed crowd-kit-1.4.1\n"
          ]
        }
      ]
    },
    {
      "cell_type": "code",
      "source": [
        "judge_df = pd.read_csv(\"ajt_judge_bm_qwen.csv\")\n",
        "judge_df = judge_df.rename(columns={\"type_mistake\": \"type_mistake_human\", \"is_mistake\": \"is_mistake_human\", \"is_mistake_gemma\": \"is_mistake_gemma2\",\n",
        "                                    \"error_type_gemma\": \"type_mistake_gemma2\", \"error_type_qwen2.5\": \"type_mistake_qwen2.5\"})"
      ],
      "metadata": {
        "id": "-9Q-zNlshQ8H"
      },
      "execution_count": 40,
      "outputs": []
    },
    {
      "cell_type": "code",
      "source": [
        "judge_df['is_mistake_human'] = judge_df['is_mistake_human'].apply(lambda x: \"есть ошибка\" if x == 1 else \"нет ошибки\")\n",
        "judge_df['is_mistake_gemma2'] = judge_df['is_mistake_gemma2'].apply(lambda x: \"есть ошибка\" if x == 1 else \"нет ошибки\")\n",
        "judge_df['is_mistake_qwen2.5'] = judge_df['is_mistake_qwen2.5'].apply(lambda x: \"есть ошибка\" if x == 1 else \"нет ошибки\")"
      ],
      "metadata": {
        "id": "R-F5EhywYOnn"
      },
      "execution_count": 41,
      "outputs": []
    },
    {
      "cell_type": "code",
      "source": [
        "binary_judge_df = judge_df[['text', 'is_mistake_human', 'is_mistake_gemma2', 'is_mistake_qwen2.5']]\n",
        "multi_judge_df = judge_df[['text', 'type_mistake_human', 'type_mistake_gemma2', 'type_mistake_qwen2.5']]"
      ],
      "metadata": {
        "id": "YU-l15vUhU2o"
      },
      "execution_count": 42,
      "outputs": []
    },
    {
      "cell_type": "code",
      "source": [
        "multi_judge_df = multi_judge_df[multi_judge_df['type_mistake_human'] != \"нет ошибки\"]\n",
        "multi_judge_df = multi_judge_df[multi_judge_df['type_mistake_gemma2'] != \"нет ошибки\"]\n",
        "multi_judge_df = multi_judge_df[multi_judge_df['type_mistake_qwen2.5'] != \"нет ошибки\"]"
      ],
      "metadata": {
        "id": "dD1kdHB6aNNw"
      },
      "execution_count": 43,
      "outputs": []
    },
    {
      "cell_type": "code",
      "source": [
        "multi_judge_df = multi_judge_df.reset_index(drop=True)"
      ],
      "metadata": {
        "id": "00LWPZWea0IP"
      },
      "execution_count": 44,
      "outputs": []
    },
    {
      "cell_type": "code",
      "source": [
        "# judge_df = judge_df[judge_df.type_mistake_gemma2 != \"none\"].reset_index(drop=True)\n",
        "# judge_df = judge_df[judge_df['type_mistake_qwen2.5'] != \"нет ошибки\"].reset_index(drop=True)"
      ],
      "metadata": {
        "id": "gCXkc1ythwbq"
      },
      "execution_count": 8,
      "outputs": []
    },
    {
      "cell_type": "markdown",
      "source": [
        "# Only acceptability"
      ],
      "metadata": {
        "id": "XrU84FeEaEka"
      }
    },
    {
      "cell_type": "code",
      "source": [
        "((binary_judge_df.groupby('is_mistake_human')['text'].count() / len(binary_judge_df) * 100).sort_values(ascending=False)\n",
        ".rename('percent')\n",
        ".reset_index()\n",
        ".pipe((sns.catplot,'data'), x='is_mistake_human',y='percent',hue='is_mistake_human',kind='bar', palette=\"viridis\"))\n",
        "plt.xticks(rotation=90)\n",
        "plt.show()"
      ],
      "metadata": {
        "colab": {
          "base_uri": "https://localhost:8080/",
          "height": 571
        },
        "outputId": "62347404-9c08-4dc5-952b-65ce7c447bd3",
        "id": "GOzNW2ybbS1y"
      },
      "execution_count": 45,
      "outputs": [
        {
          "output_type": "display_data",
          "data": {
            "text/plain": [
              "<Figure size 500x500 with 1 Axes>"
            ],
            "image/png": "[encoded data removed]"
          },
          "metadata": {}
        }
      ]
    },
    {
      "cell_type": "code",
      "source": [
        "((binary_judge_df.groupby('is_mistake_gemma2')['text'].count() / len(binary_judge_df) * 100).sort_values(ascending=False)\n",
        ".rename('percent')\n",
        ".reset_index()\n",
        ".pipe((sns.catplot,'data'), x='is_mistake_gemma2',y='percent', hue='is_mistake_gemma2', kind='bar', palette=\"viridis\"))\n",
        "plt.xticks(rotation=90)\n",
        "plt.show()"
      ],
      "metadata": {
        "colab": {
          "base_uri": "https://localhost:8080/",
          "height": 571
        },
        "outputId": "a9fbb6b1-3233-4d54-ee73-7be7c457516b",
        "id": "V2YiQcuLbS1z"
      },
      "execution_count": 46,
      "outputs": [
        {
          "output_type": "display_data",
          "data": {
            "text/plain": [
              "<Figure size 500x500 with 1 Axes>"
            ],
            "image/png": "[encoded data removed]"
          },
          "metadata": {}
        }
      ]
    },
    {
      "cell_type": "code",
      "source": [
        "((binary_judge_df.groupby('is_mistake_qwen2.5')['text'].count() / len(binary_judge_df) * 100).sort_values(ascending=False)\n",
        ".rename('percent')\n",
        ".reset_index()\n",
        ".pipe((sns.catplot,'data'), x='is_mistake_qwen2.5',y='percent', hue='is_mistake_qwen2.5', kind='bar', palette=\"viridis\"))\n",
        "plt.xticks(rotation=90)\n",
        "plt.show()"
      ],
      "metadata": {
        "colab": {
          "base_uri": "https://localhost:8080/",
          "height": 571
        },
        "id": "zetsSpnucRMB",
        "outputId": "3ad30476-105e-4711-cab7-3cb1e241d6e8"
      },
      "execution_count": 47,
      "outputs": [
        {
          "output_type": "display_data",
          "data": {
            "text/plain": [
              "<Figure size 500x500 with 1 Axes>"
            ],
            "image/png": "[encoded data removed]"
          },
          "metadata": {}
        }
      ]
    },
    {
      "cell_type": "code",
      "source": [
        "annotators = [\"human\", \"gemma2\", \"qwen2.5\"]\n",
        "annots = []\n",
        "for v in binary_judge_df[['text', 'is_mistake_human', 'is_mistake_gemma2', 'is_mistake_qwen2.5']].values:\n",
        "  txt = [v[0]]\n",
        "  humans = txt + ['human'] + [v[1]]\n",
        "  gemmas = txt + ['gemma2'] + [v[2]]\n",
        "  qwens = txt + ['qwen2.5'] + [v[3]]\n",
        "  annots.extend([humans, gemmas, qwens])"
      ],
      "metadata": {
        "id": "xOBVa054bS1z"
      },
      "execution_count": 48,
      "outputs": []
    },
    {
      "cell_type": "code",
      "source": [
        "annot_df = pd.DataFrame(annots, columns=['text', 'annotator', 'is_mistake'])\n",
        "annot_df.head()"
      ],
      "metadata": {
        "colab": {
          "base_uri": "https://localhost:8080/",
          "height": 206
        },
        "outputId": "a2587f2f-6a60-4cb0-990e-772d063d9a4b",
        "id": "eIm1u4hHbS1z"
      },
      "execution_count": 49,
      "outputs": [
        {
          "output_type": "execute_result",
          "data": {
            "text/plain": [
              "                                                text annotator   is_mistake\n",
              "0  Создание  новой  версии  Личного  Кабинета  МИ...     human  есть ошибка\n",
              "1  Создание  новой  версии  Личного  Кабинета  МИ...    gemma2  есть ошибка\n",
              "2  Создание  новой  версии  Личного  Кабинета  МИ...   qwen2.5  есть ошибка\n",
              "3  Новая версия Кабинета должна быть развёрнута н...     human  есть ошибка\n",
              "4  Новая версия Кабинета должна быть развёрнута н...    gemma2   нет ошибки"
            ],
            "text/html": [
              "\n",
              "  <div id=\"df-3a2d233f-0188-4857-92b6-ae4b8409ea5f\" class=\"colab-df-container\">\n",
              "    <div>\n",
              "<style scoped>\n",
              "    .dataframe tbody tr th:only-of-type {\n",
              "        vertical-align: middle;\n",
              "    }\n",
              "\n",
              "    .dataframe tbody tr th {\n",
              "        vertical-align: top;\n",
              "    }\n",
              "\n",
              "    .dataframe thead th {\n",
              "        text-align: right;\n",
              "    }\n",
              "</style>\n",
              "<table border=\"1\" class=\"dataframe\">\n",
              "  <thead>\n",
              "    <tr style=\"text-align: right;\">\n",
              "      <th></th>\n",
              "      <th>text</th>\n",
              "      <th>annotator</th>\n",
              "      <th>is_mistake</th>\n",
              "    </tr>\n",
              "  </thead>\n",
              "  <tbody>\n",
              "    <tr>\n",
              "      <th>0</th>\n",
              "      <td>Создание  новой  версии  Личного  Кабинета  МИ...</td>\n",
              "      <td>human</td>\n",
              "      <td>есть ошибка</td>\n",
              "    </tr>\n",
              "    <tr>\n",
              "      <th>1</th>\n",
              "      <td>Создание  новой  версии  Личного  Кабинета  МИ...</td>\n",
              "      <td>gemma2</td>\n",
              "      <td>есть ошибка</td>\n",
              "    </tr>\n",
              "    <tr>\n",
              "      <th>2</th>\n",
              "      <td>Создание  новой  версии  Личного  Кабинета  МИ...</td>\n",
              "      <td>qwen2.5</td>\n",
              "      <td>есть ошибка</td>\n",
              "    </tr>\n",
              "    <tr>\n",
              "      <th>3</th>\n",
              "      <td>Новая версия Кабинета должна быть развёрнута н...</td>\n",
              "      <td>human</td>\n",
              "      <td>есть ошибка</td>\n",
              "    </tr>\n",
              "    <tr>\n",
              "      <th>4</th>\n",
              "      <td>Новая версия Кабинета должна быть развёрнута н...</td>\n",
              "      <td>gemma2</td>\n",
              "      <td>нет ошибки</td>\n",
              "    </tr>\n",
              "  </tbody>\n",
              "</table>\n",
              "</div>\n",
              "    <div class=\"colab-df-buttons\">\n",
              "\n",
              "  <div class=\"colab-df-container\">\n",
              "    <button class=\"colab-df-convert\" onclick=\"convertToInteractive('df-3a2d233f-0188-4857-92b6-ae4b8409ea5f')\"\n",
              "            title=\"Convert this dataframe to an interactive table.\"\n",
              "            style=\"display:none;\">\n",
              "\n",
              "  <svg xmlns=\"http://www.w3.org/2000/svg\" height=\"24px\" viewBox=\"0 -960 960 960\">\n",
              "    <path d=\"M120-120v-720h720v720H120Zm60-500h600v-160H180v160Zm220 220h160v-160H400v160Zm0 220h160v-160H400v160ZM180-400h160v-160H180v160Zm440 0h160v-160H620v160ZM180-180h160v-160H180v160Zm440 0h160v-160H620v160Z\"/>\n",
              "  </svg>\n",
              "    </button>\n",
              "\n",
              "  <style>\n",
              "    .colab-df-container {\n",
              "      display:flex;\n",
              "      gap: 12px;\n",
              "    }\n",
              "\n",
              "    .colab-df-convert {\n",
              "      background-color: #E8F0FE;\n",
              "      border: none;\n",
              "      border-radius: 50%;\n",
              "      cursor: pointer;\n",
              "      display: none;\n",
              "      fill: #1967D2;\n",
              "      height: 32px;\n",
              "      padding: 0 0 0 0;\n",
              "      width: 32px;\n",
              "    }\n",
              "\n",
              "    .colab-df-convert:hover {\n",
              "      background-color: #E2EBFA;\n",
              "      box-shadow: 0px 1px 2px rgba(60, 64, 67, 0.3), 0px 1px 3px 1px rgba(60, 64, 67, 0.15);\n",
              "      fill: #174EA6;\n",
              "    }\n",
              "\n",
              "    .colab-df-buttons div {\n",
              "      margin-bottom: 4px;\n",
              "    }\n",
              "\n",
              "    [theme=dark] .colab-df-convert {\n",
              "      background-color: #3B4455;\n",
              "      fill: #D2E3FC;\n",
              "    }\n",
              "\n",
              "    [theme=dark] .colab-df-convert:hover {\n",
              "      background-color: #434B5C;\n",
              "      box-shadow: 0px 1px 3px 1px rgba(0, 0, 0, 0.15);\n",
              "      filter: drop-shadow(0px 1px 2px rgba(0, 0, 0, 0.3));\n",
              "      fill: #FFFFFF;\n",
              "    }\n",
              "  </style>\n",
              "\n",
              "    <script>\n",
              "      const buttonEl =\n",
              "        document.querySelector('#df-3a2d233f-0188-4857-92b6-ae4b8409ea5f button.colab-df-convert');\n",
              "      buttonEl.style.display =\n",
              "        google.colab.kernel.accessAllowed ? 'block' : 'none';\n",
              "\n",
              "      async function convertToInteractive(key) {\n",
              "        const element = document.querySelector('#df-3a2d233f-0188-4857-92b6-ae4b8409ea5f');\n",
              "        const dataTable =\n",
              "          await google.colab.kernel.invokeFunction('convertToInteractive',\n",
              "                                                    [key], {});\n",
              "        if (!dataTable) return;\n",
              "\n",
              "        const docLinkHtml = 'Like what you see? Visit the ' +\n",
              "          '<a target=\"_blank\" href=https://colab.research.google.com/notebooks/data_table.ipynb>data table notebook</a>'\n",
              "          + ' to learn more about interactive tables.';\n",
              "        element.innerHTML = '';\n",
              "        dataTable['output_type'] = 'display_data';\n",
              "        await google.colab.output.renderOutput(dataTable, element);\n",
              "        const docLink = document.createElement('div');\n",
              "        docLink.innerHTML = docLinkHtml;\n",
              "        element.appendChild(docLink);\n",
              "      }\n",
              "    </script>\n",
              "  </div>\n",
              "\n",
              "\n",
              "<div id=\"df-d49444a7-60d5-4523-8a68-aea96d235c2b\">\n",
              "  <button class=\"colab-df-quickchart\" onclick=\"quickchart('df-d49444a7-60d5-4523-8a68-aea96d235c2b')\"\n",
              "            title=\"Suggest charts\"\n",
              "            style=\"display:none;\">\n",
              "\n",
              "<svg xmlns=\"http://www.w3.org/2000/svg\" height=\"24px\"viewBox=\"0 0 24 24\"\n",
              "     width=\"24px\">\n",
              "    <g>\n",
              "        <path d=\"M19 3H5c-1.1 0-2 .9-2 2v14c0 1.1.9 2 2 2h14c1.1 0 2-.9 2-2V5c0-1.1-.9-2-2-2zM9 17H7v-7h2v7zm4 0h-2V7h2v10zm4 0h-2v-4h2v4z\"/>\n",
              "    </g>\n",
              "</svg>\n",
              "  </button>\n",
              "\n",
              "<style>\n",
              "  .colab-df-quickchart {\n",
              "      --bg-color: #E8F0FE;\n",
              "      --fill-color: #1967D2;\n",
              "      --hover-bg-color: #E2EBFA;\n",
              "      --hover-fill-color: #174EA6;\n",
              "      --disabled-fill-color: #AAA;\n",
              "      --disabled-bg-color: #DDD;\n",
              "  }\n",
              "\n",
              "  [theme=dark] .colab-df-quickchart {\n",
              "      --bg-color: #3B4455;\n",
              "      --fill-color: #D2E3FC;\n",
              "      --hover-bg-color: #434B5C;\n",
              "      --hover-fill-color: #FFFFFF;\n",
              "      --disabled-bg-color: #3B4455;\n",
              "      --disabled-fill-color: #666;\n",
              "  }\n",
              "\n",
              "  .colab-df-quickchart {\n",
              "    background-color: var(--bg-color);\n",
              "    border: none;\n",
              "    border-radius: 50%;\n",
              "    cursor: pointer;\n",
              "    display: none;\n",
              "    fill: var(--fill-color);\n",
              "    height: 32px;\n",
              "    padding: 0;\n",
              "    width: 32px;\n",
              "  }\n",
              "\n",
              "  .colab-df-quickchart:hover {\n",
              "    background-color: var(--hover-bg-color);\n",
              "    box-shadow: 0 1px 2px rgba(60, 64, 67, 0.3), 0 1px 3px 1px rgba(60, 64, 67, 0.15);\n",
              "    fill: var(--button-hover-fill-color);\n",
              "  }\n",
              "\n",
              "  .colab-df-quickchart-complete:disabled,\n",
              "  .colab-df-quickchart-complete:disabled:hover {\n",
              "    background-color: var(--disabled-bg-color);\n",
              "    fill: var(--disabled-fill-color);\n",
              "    box-shadow: none;\n",
              "  }\n",
              "\n",
              "  .colab-df-spinner {\n",
              "    border: 2px solid var(--fill-color);\n",
              "    border-color: transparent;\n",
              "    border-bottom-color: var(--fill-color);\n",
              "    animation:\n",
              "      spin 1s steps(1) infinite;\n",
              "  }\n",
              "\n",
              "  @keyframes spin {\n",
              "    0% {\n",
              "      border-color: transparent;\n",
              "      border-bottom-color: var(--fill-color);\n",
              "      border-left-color: var(--fill-color);\n",
              "    }\n",
              "    20% {\n",
              "      border-color: transparent;\n",
              "      border-left-color: var(--fill-color);\n",
              "      border-top-color: var(--fill-color);\n",
              "    }\n",
              "    30% {\n",
              "      border-color: transparent;\n",
              "      border-left-color: var(--fill-color);\n",
              "      border-top-color: var(--fill-color);\n",
              "      border-right-color: var(--fill-color);\n",
              "    }\n",
              "    40% {\n",
              "      border-color: transparent;\n",
              "      border-right-color: var(--fill-color);\n",
              "      border-top-color: var(--fill-color);\n",
              "    }\n",
              "    60% {\n",
              "      border-color: transparent;\n",
              "      border-right-color: var(--fill-color);\n",
              "    }\n",
              "    80% {\n",
              "      border-color: transparent;\n",
              "      border-right-color: var(--fill-color);\n",
              "      border-bottom-color: var(--fill-color);\n",
              "    }\n",
              "    90% {\n",
              "      border-color: transparent;\n",
              "      border-bottom-color: var(--fill-color);\n",
              "    }\n",
              "  }\n",
              "</style>\n",
              "\n",
              "  <script>\n",
              "    async function quickchart(key) {\n",
              "      const quickchartButtonEl =\n",
              "        document.querySelector('#' + key + ' button');\n",
              "      quickchartButtonEl.disabled = true;  // To prevent multiple clicks.\n",
              "      quickchartButtonEl.classList.add('colab-df-spinner');\n",
              "      try {\n",
              "        const charts = await google.colab.kernel.invokeFunction(\n",
              "            'suggestCharts', [key], {});\n",
              "      } catch (error) {\n",
              "        console.error('Error during call to suggestCharts:', error);\n",
              "      }\n",
              "      quickchartButtonEl.classList.remove('colab-df-spinner');\n",
              "      quickchartButtonEl.classList.add('colab-df-quickchart-complete');\n",
              "    }\n",
              "    (() => {\n",
              "      let quickchartButtonEl =\n",
              "        document.querySelector('#df-d49444a7-60d5-4523-8a68-aea96d235c2b button');\n",
              "      quickchartButtonEl.style.display =\n",
              "        google.colab.kernel.accessAllowed ? 'block' : 'none';\n",
              "    })();\n",
              "  </script>\n",
              "</div>\n",
              "    </div>\n",
              "  </div>\n"
            ],
            "application/vnd.google.colaboratory.intrinsic+json": {
              "type": "dataframe",
              "variable_name": "annot_df",
              "summary": "{\n  \"name\": \"annot_df\",\n  \"rows\": 2394,\n  \"fields\": [\n    {\n      \"column\": \"text\",\n      \"properties\": {\n        \"dtype\": \"category\",\n        \"num_unique_values\": 798,\n        \"samples\": [\n          \"\\u042d\\u0442\\u043e \\u043e\\u0437\\u043d\\u0430\\u0447\\u0430\\u0435\\u0442, \\u0447\\u0442\\u043e \\u043d\\u0430\\u0438\\u0431\\u043e\\u043b\\u0435\\u0435 \\u0437\\u043d\\u0430\\u0447\\u0438\\u043c\\u044b\\u0435 \\u043f\\u0430\\u0440\\u0430\\u0437\\u0438\\u0442\\u043d\\u044b\\u0435 \\u044d\\u0444\\u0444\\u0435\\u043a\\u0442\\u044b, \\u0442\\u0430\\u043a\\u0438\\u0435 \\u043a\\u0430\\u043a \\u043f\\u043e\\u0441\\u043b\\u0435\\u0434\\u043e\\u0432\\u0430\\u0442\\u0435\\u043b\\u044c\\u043d\\u043e\\u0435 \\u0441\\u043e\\u043f\\u0440\\u043e\\u0442\\u0438\\u0432\\u043b\\u0435\\u043d\\u0438\\u0435 \\u0437\\u0430\\u0442\\u0432\\u043e\\u0440\\u0430 \\u0438\\u043b\\u0438 \\u0435\\u043c\\u043a\\u043e\\u0441\\u0442\\u044c \\u043e\\u0431\\u044a\\u0435\\u043c\\u043d\\u043e\\u0439 \\u043e\\u0431\\u043b\\u0430\\u0441\\u0442\\u0438 \\u0437\\u0430\\u0442\\u0432\\u043e\\u0440\\u0430 \\u043f\\u0440\\u0438 \\u043d\\u0443\\u043b\\u0435\\u0432\\u043e\\u043c \\u0441\\u043c\\u0435\\u0449\\u0435\\u043d\\u0438\\u0438, \\u0432\\u043a\\u043b\\u044e\\u0447\\u0435\\u043d\\u044b \\u0432 \\u044d\\u043a\\u0432\\u0438\\u0432\\u0430\\u043b\\u0435\\u043d\\u0442\\u043d\\u044b\\u0435 \\u0441\\u0445\\u0435\\u043c\\u044b \\u0434\\u043b\\u044f \\u0432\\u0441\\u0435\\u0445 \\u0447\\u0435\\u0442\\u044b\\u0440\\u0435\\u0445 \\u043c\\u043e\\u0434\\u0435\\u043b\\u0435\\u0439 \\u041c\\u041e\\u041f \\u0442\\u0440\\u0430\\u043d\\u0437\\u0438\\u0441\\u0442\\u043e\\u0440\\u0430. \",\n          \"\\u0415\\u0449\\u0435 \\u043e\\u0434\\u043d\\u043e\\u0439 \\u0444\\u0443\\u043d\\u043a\\u0446\\u0438\\u0435\\u0439 \\u043f\\u0440\\u0438\\u043b\\u043e\\u0436\\u0435\\u043d\\u0438\\u044f, \\u043a\\u043e\\u0442\\u043e\\u0440\\u0430\\u044f \\u0440\\u0430\\u0431\\u043e\\u0442\\u0430\\u0435\\u0442 \\u0432 \\u0430\\u0432\\u0442\\u043e\\u043d\\u043e\\u043c\\u043d\\u043e\\u043c \\u0440\\u0435\\u0436\\u0438\\u043c\\u0435, \\u044f\\u0432\\u043b\\u044f\\u0435\\u0442\\u0441\\u044f \\u043e\\u0437\\u0432\\u0443\\u0447\\u0438\\u0432\\u0430\\u043d\\u0438\\u0435 \\u043a\\u043d\\u043e\\u043f\\u043e\\u043a \\u0438 \\u0442\\u0435\\u043a\\u0441\\u0442\\u043e\\u0432\\u044b\\u0445 \\u043f\\u043e\\u043b\\u0435\\u0439 \\u043f\\u043e\\u0441\\u043b\\u0435 \\u0434\\u043e\\u043b\\u0433\\u043e\\u0433\\u043e \\u043d\\u0430\\u0436\\u0430\\u0442\\u0438\\u044f \\u043d\\u0430 \\u043d\\u0438\\u0445\",\n          \"\\u041d\\u0430 \\u043e\\u0441\\u043d\\u043e\\u0432\\u0430\\u043d\\u0438\\u0438 \\u0432\\u044b\\u0448\\u0435\\u043e\\u043f\\u0438\\u0441\\u0430\\u043d\\u043d\\u043e\\u0433\\u043e \\u043c\\u043e\\u0436\\u043d\\u043e \\u0432\\u044b\\u0434\\u0435\\u043b\\u0438\\u0442\\u044c \\u0446\\u0435\\u043b\\u044c \\u0440\\u0430\\u0431\\u043e\\u0442\\u044b.\"\n        ],\n        \"semantic_type\": \"\",\n        \"description\": \"\"\n      }\n    },\n    {\n      \"column\": \"annotator\",\n      \"properties\": {\n        \"dtype\": \"category\",\n        \"num_unique_values\": 3,\n        \"samples\": [\n          \"human\",\n          \"gemma2\",\n          \"qwen2.5\"\n        ],\n        \"semantic_type\": \"\",\n        \"description\": \"\"\n      }\n    },\n    {\n      \"column\": \"is_mistake\",\n      \"properties\": {\n        \"dtype\": \"category\",\n        \"num_unique_values\": 2,\n        \"samples\": [\n          \"\\u043d\\u0435\\u0442 \\u043e\\u0448\\u0438\\u0431\\u043a\\u0438\",\n          \"\\u0435\\u0441\\u0442\\u044c \\u043e\\u0448\\u0438\\u0431\\u043a\\u0430\"\n        ],\n        \"semantic_type\": \"\",\n        \"description\": \"\"\n      }\n    }\n  ]\n}"
            }
          },
          "metadata": {},
          "execution_count": 49
        }
      ]
    },
    {
      "cell_type": "code",
      "source": [
        "classes = sorted(annot_df['is_mistake'].unique())\n",
        "class2id = {label: i for i, label in enumerate(classes)}\n",
        "\n",
        "pivot = annot_df.groupby(['text', 'is_mistake']).size().unstack(fill_value=0)\n",
        "\n",
        "for c in classes:\n",
        "    if c not in pivot.columns:\n",
        "        pivot[c] = 0\n",
        "\n",
        "ratings_matrix = pivot[classes].to_numpy()"
      ],
      "metadata": {
        "id": "_Mdf8hmcbS1z"
      },
      "execution_count": 50,
      "outputs": []
    },
    {
      "cell_type": "code",
      "source": [
        "from statsmodels.stats.inter_rater import fleiss_kappa\n",
        "\n",
        "kappa = fleiss_kappa(ratings_matrix)\n",
        "print(f\"Fleiss' Kappa: {kappa:.3f}\")"
      ],
      "metadata": {
        "colab": {
          "base_uri": "https://localhost:8080/"
        },
        "outputId": "359914c3-760d-4df8-9468-9ebaa2ca6fe5",
        "id": "7xs2n6njbS1z"
      },
      "execution_count": 51,
      "outputs": [
        {
          "output_type": "stream",
          "name": "stdout",
          "text": [
            "Fleiss' Kappa: 0.357\n"
          ]
        }
      ]
    },
    {
      "cell_type": "code",
      "source": [
        "from sklearn.metrics import cohen_kappa_score\n",
        "from collections import Counter\n",
        "\n",
        "def scotts_pi(rater1, rater2):\n",
        "    assert len(rater1) == len(rater2)\n",
        "    total = len(rater1)\n",
        "\n",
        "    agree = sum(r1 == r2 for r1, r2 in zip(rater1, rater2)) / total\n",
        "\n",
        "    counts = Counter(rater1 + rater2)\n",
        "    total_ratings = 2 * total\n",
        "    probs = {k: v / total_ratings for k, v in counts.items()}\n",
        "\n",
        "    expected_agree = sum(p ** 2 for p in probs.values())\n",
        "    pi = (agree - expected_agree) / (1 - expected_agree)\n",
        "    return pi"
      ],
      "metadata": {
        "id": "bbu-3MHnbS1z"
      },
      "execution_count": 52,
      "outputs": []
    },
    {
      "cell_type": "code",
      "source": [
        "rater1 = annot_df[annot_df.annotator == \"human\"]['is_mistake'].tolist()\n",
        "rater2 = annot_df[annot_df.annotator == \"gemma2\"]['is_mistake'].tolist()\n",
        "rater3 = annot_df[annot_df.annotator == \"qwen2.5\"]['is_mistake'].tolist()"
      ],
      "metadata": {
        "id": "kWmUaX8JbS1z"
      },
      "execution_count": 53,
      "outputs": []
    },
    {
      "cell_type": "code",
      "source": [
        "kappa = cohen_kappa_score(rater1, rater2)\n",
        "print(f\"Cohen's Kappa Human Gemma: {kappa:.3f}\")"
      ],
      "metadata": {
        "colab": {
          "base_uri": "https://localhost:8080/"
        },
        "outputId": "2f0402eb-966b-42f6-8238-11dd37af5aec",
        "id": "Hj_yDN4ybS10"
      },
      "execution_count": 54,
      "outputs": [
        {
          "output_type": "stream",
          "name": "stdout",
          "text": [
            "Cohen's Kappa Human Gemma: 0.296\n"
          ]
        }
      ]
    },
    {
      "cell_type": "code",
      "source": [
        "kappa = cohen_kappa_score(rater1, rater3)\n",
        "print(f\"Cohen's Kappa Human Qwen: {kappa:.3f}\")"
      ],
      "metadata": {
        "colab": {
          "base_uri": "https://localhost:8080/"
        },
        "outputId": "226b0430-cedf-413b-9611-9b0cf50a6d4b",
        "id": "n64aYCu9bS10"
      },
      "execution_count": 55,
      "outputs": [
        {
          "output_type": "stream",
          "name": "stdout",
          "text": [
            "Cohen's Kappa Human Qwen: 0.259\n"
          ]
        }
      ]
    },
    {
      "cell_type": "code",
      "source": [
        "kappa = cohen_kappa_score(rater2, rater3)\n",
        "print(f\"Cohen's Kappa Gemma Qwen: {kappa:.3f}\")"
      ],
      "metadata": {
        "colab": {
          "base_uri": "https://localhost:8080/"
        },
        "outputId": "2b489524-c9bd-422d-f8df-ff9a98d4e4cc",
        "id": "AVIkuC8pbS10"
      },
      "execution_count": 56,
      "outputs": [
        {
          "output_type": "stream",
          "name": "stdout",
          "text": [
            "Cohen's Kappa Gemma Qwen: 0.545\n"
          ]
        }
      ]
    },
    {
      "cell_type": "code",
      "source": [
        "scottie = scotts_pi(rater1, rater2)\n",
        "print(f\"Scott's Pi Human Gemma: {scottie:.3f}\")"
      ],
      "metadata": {
        "colab": {
          "base_uri": "https://localhost:8080/"
        },
        "id": "RT0PVcmJ8OAG",
        "outputId": "edfde392-1f55-4126-c339-be102abf91f0"
      },
      "execution_count": 57,
      "outputs": [
        {
          "output_type": "stream",
          "name": "stdout",
          "text": [
            "Scott's Pi Human Gemma: 0.276\n"
          ]
        }
      ]
    },
    {
      "cell_type": "code",
      "source": [
        "scottie = scotts_pi(rater1, rater3)\n",
        "print(f\"Scott's Pi Human Qwe: {scottie:.3f}\")"
      ],
      "metadata": {
        "colab": {
          "base_uri": "https://localhost:8080/"
        },
        "id": "0-i6kFw18Xzl",
        "outputId": "5860dd7f-8109-4998-8fae-190931cb73cb"
      },
      "execution_count": 58,
      "outputs": [
        {
          "output_type": "stream",
          "name": "stdout",
          "text": [
            "Scott's Pi Human Qwe: 0.245\n"
          ]
        }
      ]
    },
    {
      "cell_type": "code",
      "source": [
        "scottie = scotts_pi(rater2, rater3)\n",
        "print(f\"Scott's Pi Gemma Qwen: {scottie:.3f}\")"
      ],
      "metadata": {
        "colab": {
          "base_uri": "https://localhost:8080/"
        },
        "id": "7l1BP0Ed8X4_",
        "outputId": "41f23e0c-101e-473c-a04a-809324c0653c"
      },
      "execution_count": 59,
      "outputs": [
        {
          "output_type": "stream",
          "name": "stdout",
          "text": [
            "Scott's Pi Gemma Qwen: 0.545\n"
          ]
        }
      ]
    },
    {
      "cell_type": "code",
      "source": [
        "from crowdkit.aggregation import DawidSkene, GLAD"
      ],
      "metadata": {
        "id": "TMJJXyy5bS10"
      },
      "execution_count": null,
      "outputs": []
    },
    {
      "cell_type": "code",
      "source": [
        "annot_df = annot_df.rename(columns={\"text\": \"task\", \"annotator\": \"worker\", \"is_mistake\":\"label\"})"
      ],
      "metadata": {
        "id": "l7SXwuvkbS10"
      },
      "execution_count": null,
      "outputs": []
    },
    {
      "cell_type": "code",
      "source": [
        "ds = DawidSkene()\n",
        "ds_result = ds.fit_predict(annot_df)\n",
        "print(\"Dawid-Skene:\\n\", ds_result)"
      ],
      "metadata": {
        "colab": {
          "base_uri": "https://localhost:8080/"
        },
        "outputId": "09f308a2-bc4a-41b1-d69c-a5ab0c7f2417",
        "id": "JwrcE3kdbS10"
      },
      "execution_count": null,
      "outputs": [
        {
          "output_type": "stream",
          "name": "stdout",
          "text": [
            "Dawid-Skene:\n",
            " task\n",
            "Создание  новой  версии  Личного  Кабинета  МИЭМ  НИУ  ВШЭ   с удобным  пользовательским  интерфейсом,  соответствующим  дизайн­коду МИЭМ НИУ ВШЭ, учитывающий все изменения в методологии ведения проектной деятельности.                      есть ошибка\n",
            "Новая версия Кабинета должна быть развёрнута на тестовом сервере и к ней должен быть предоставлен публичный доступ.                                                                                                                             есть ошибка\n",
            "Новая версия Кабинета должна быть развёрнута на тестовом сервере, и к ней должен быть предоставлен публичный доступ. Должен осуществляться строгий контроль за качеством кода. При разработке должны использоваться современные технологии.     есть ошибка\n",
            "Кабинет  доказал  свою  эффективность  и  необходимость  для  проектной модеди обучения. Однако за 4 года использования морально устарели как дизайн Кабинета, так и его кодовая база.                                                          есть ошибка\n",
            "Устаревшая кодовая база не позволяет за приемлемое время добавлять новый функционал и исправлять ошибки.                                                                                                                                         нет ошибки\n",
            "                                                                                                                                                                                                                                                   ...     \n",
            "Это приводит к излишним временным и финансовым затратам как для компании, так и для клиента.                                                                                                                                                     нет ошибки\n",
            "Они позволяют учесть большее количество переменных и факторов, что способствует повышению точности прогнозирования бюджета проекта.                                                                                                              нет ошибки\n",
            "Существует несколько вариантов реализации такого калькулятора с использованием дообучения нейросети.                                                                                                                                            нет ошибки\n",
            "Данный метод может быть использован в случае, если в расчетах используются изображения или графики домов.                                                                                                                                      есть ошибка\n",
            "Датасет должен быть структурированным, содержать необходимую информацию и быть готовым для обработки перед подачей на вход нейронной сети.                                                                                                   есть ошибка\n",
            "Name: agg_label, Length: 798, dtype: object\n"
          ]
        }
      ]
    },
    {
      "cell_type": "code",
      "source": [
        "glad = GLAD()\n",
        "glad_result = glad.fit_predict(annot_df)\n",
        "print(\"\\nGLAD:\\n\", glad_result)"
      ],
      "metadata": {
        "colab": {
          "base_uri": "https://localhost:8080/"
        },
        "outputId": "9d617722-15b2-4ab7-cbd5-262e954f82d1",
        "id": "O7BGBgPEbS10"
      },
      "execution_count": null,
      "outputs": [
        {
          "output_type": "stream",
          "name": "stdout",
          "text": [
            "\n",
            "GLAD:\n",
            " task\n",
            " Bluetooth, как правило, имеет меньший радиус действия - около 20 метров, но при этом обладает меньшим энергопотреблением.                                                                          нет ошибки\n",
            " S – люди, которые могут воспринимать только конкретную информацию, или практическую, то есть информацию, которую можно потрогать, увидеть, услышать.                                              есть ошибка\n",
            " Более типичным механизмом рассеяния для криогенных температур, в котором происходит вымораживание атомов легирующей примеси, является «низкоуровневая» ударная ионизация.                          нет ошибки\n",
            " Из-за использования тяжелых моделей для запуска этой системы нужно большие вычислительные ресурсы, …                                                                                              есть ошибка\n",
            " Интерпретируемость знаний системы и быстрые алгоритмы обучения делают нечеткие нейронные сети одним из самых эффективных инструментов мягких вычислений.                                           нет ошибки\n",
            "                                                                                                                                                                                                      ...     \n",
            "…, а также нехватку специалистов в данных заведений.                                                                                                                                               есть ошибка\n",
            "…, находящийся в учебно-исследовательской лаборатории функциональная безопасность космических аппаратов и систем для визуализации пролёта макета малого космического аппарата на данном стенде.    есть ошибка\n",
            "…, схемотехническое моделирование, а также проводятся отдельно моделирование тепловых процессов и расчет надежности электронных компонентов и всей системы в целом.                               есть ошибка\n",
            "…повлиять на будущее развитие кодовой базы и улучшение CCN архитектуры, а также расширение области ее применения.                                                                                  есть ошибка\n",
            "𝑑 — это порядок интегрирования, который отражает количество разностей, необходимых, для того чтобы превратить исходный временной ряд в стационарный.                                          есть ошибка\n",
            "Name: agg_label, Length: 798, dtype: object\n"
          ]
        }
      ]
    },
    {
      "cell_type": "code",
      "source": [
        "print(\"\\nАннотаторы (способности):\\n\", glad.alphas_)\n",
        "print(\"\\nЗадачи (трудности):\\n\", glad.betas_)"
      ],
      "metadata": {
        "colab": {
          "base_uri": "https://localhost:8080/"
        },
        "outputId": "4258dfa2-6bf6-4cbb-a2a3-9215d342257c",
        "id": "vEvmp5oXbS10"
      },
      "execution_count": null,
      "outputs": [
        {
          "output_type": "stream",
          "name": "stdout",
          "text": [
            "\n",
            "Аннотаторы (способности):\n",
            " worker\n",
            "human      0.423691\n",
            "gemma2     0.916736\n",
            "qwen2.5    0.862725\n",
            "Name: alpha, dtype: float64\n",
            "\n",
            "Задачи (трудности):\n",
            " task\n",
            "Создание  новой  версии  Личного  Кабинета  МИЭМ  НИУ  ВШЭ   с удобным  пользовательским  интерфейсом,  соответствующим  дизайн­коду МИЭМ НИУ ВШЭ, учитывающий все изменения в методологии ведения проектной деятельности.                      1.431979\n",
            "Новая версия Кабинета должна быть развёрнута на тестовом сервере и к ней должен быть предоставлен публичный доступ.                                                                                                                             0.322926\n",
            "Новая версия Кабинета должна быть развёрнута на тестовом сервере, и к ней должен быть предоставлен публичный доступ. Должен осуществляться строгий контроль за качеством кода. При разработке должны использоваться современные технологии.     0.345960\n",
            "Кабинет  доказал  свою  эффективность  и  необходимость  для  проектной модеди обучения. Однако за 4 года использования морально устарели как дизайн Кабинета, так и его кодовая база.                                                          1.431979\n",
            "Устаревшая кодовая база не позволяет за приемлемое время добавлять новый функционал и исправлять ошибки.                                                                                                                                        0.703362\n",
            "                                                                                                                                                                                                                                                  ...   \n",
            "Это приводит к излишним временным и финансовым затратам как для компании, так и для клиента.                                                                                                                                                    1.431979\n",
            "Они позволяют учесть большее количество переменных и факторов, что способствует повышению точности прогнозирования бюджета проекта.                                                                                                             1.431979\n",
            "Существует несколько вариантов реализации такого калькулятора с использованием дообучения нейросети.                                                                                                                                           0.345960\n",
            "Данный метод может быть использован в случае, если в расчетах используются изображения или графики домов.                                                                                                                                      0.703362\n",
            "Датасет должен быть структурированным, содержать необходимую информацию и быть готовым для обработки перед подачей на вход нейронной сети.                                                                                                   0.703362\n",
            "Name: beta, Length: 798, dtype: float64\n"
          ]
        }
      ]
    },
    {
      "cell_type": "markdown",
      "source": [
        "# Only mistakes"
      ],
      "metadata": {
        "id": "LvYPep6kZKLV"
      }
    },
    {
      "cell_type": "code",
      "source": [
        "((multi_judge_df.groupby('type_mistake_human')['text'].count() / len(multi_judge_df) * 100).sort_values(ascending=False)\n",
        ".rename('percent')\n",
        ".reset_index()\n",
        ".pipe((sns.catplot,'data'), x='type_mistake_human',y='percent',hue='type_mistake_human',kind='bar', palette=\"viridis\"))\n",
        "plt.xticks(rotation=90)\n",
        "plt.show()"
      ],
      "metadata": {
        "colab": {
          "base_uri": "https://localhost:8080/",
          "height": 594
        },
        "id": "Lcm1U76Oc_Hr",
        "outputId": "2d14803a-731b-427d-c3e2-6ca9f7b96667"
      },
      "execution_count": 25,
      "outputs": [
        {
          "output_type": "display_data",
          "data": {
            "text/plain": [
              "<Figure size 500x500 with 1 Axes>"
            ],
            "image/png": "[encoded data removed]"
          },
          "metadata": {}
        }
      ]
    },
    {
      "cell_type": "code",
      "source": [
        "((multi_judge_df.groupby('type_mistake_gemma2')['text'].count() / len(multi_judge_df) * 100).sort_values(ascending=False)\n",
        ".rename('percent')\n",
        ".reset_index()\n",
        ".pipe((sns.catplot,'data'), x='type_mistake_gemma2',y='percent',hue='type_mistake_gemma2',kind='bar', palette=\"viridis\"))\n",
        "plt.xticks(rotation=90)\n",
        "plt.show()"
      ],
      "metadata": {
        "colab": {
          "base_uri": "https://localhost:8080/",
          "height": 594
        },
        "id": "UrmVeDWcnmia",
        "outputId": "c0081214-52e1-4735-bff1-bdadc91e7b4d"
      },
      "execution_count": 26,
      "outputs": [
        {
          "output_type": "display_data",
          "data": {
            "text/plain": [
              "<Figure size 500x500 with 1 Axes>"
            ],
            "image/png": "[encoded data removed]"
          },
          "metadata": {}
        }
      ]
    },
    {
      "cell_type": "code",
      "source": [
        "((multi_judge_df.groupby('type_mistake_qwen2.5')['text'].count() / len(multi_judge_df) * 100).sort_values(ascending=False)\n",
        ".rename('percent')\n",
        ".reset_index()\n",
        ".pipe((sns.catplot,'data'), x='type_mistake_qwen2.5',y='percent', hue='type_mistake_qwen2.5', kind='bar', palette=\"viridis\"))\n",
        "plt.xticks(rotation=90)\n",
        "plt.show()"
      ],
      "metadata": {
        "colab": {
          "base_uri": "https://localhost:8080/",
          "height": 594
        },
        "id": "ggmCHJRXp2X0",
        "outputId": "84b0636e-05e4-462a-d92f-c5ef9460dfb1"
      },
      "execution_count": 27,
      "outputs": [
        {
          "output_type": "display_data",
          "data": {
            "text/plain": [
              "<Figure size 500x500 with 1 Axes>"
            ],
            "image/png": "[encoded data removed]"
          },
          "metadata": {}
        }
      ]
    },
    {
      "cell_type": "code",
      "source": [
        "annotators = [\"human\", \"gemma2\", \"qwen2.5\"]\n",
        "annots = []\n",
        "for v in multi_judge_df[['text', 'type_mistake_human', 'type_mistake_gemma2', 'type_mistake_qwen2.5']].values:\n",
        "  txt = [v[0]]\n",
        "  humans = txt + ['human'] + [v[1]]\n",
        "  gemmas = txt + ['gemma2'] + [v[2]]\n",
        "  qwens = txt + ['qwen2.5'] + [v[3]]\n",
        "  annots.extend([humans, gemmas, qwens])"
      ],
      "metadata": {
        "id": "-DIazZYdiLhe"
      },
      "execution_count": 28,
      "outputs": []
    },
    {
      "cell_type": "code",
      "source": [
        "annot_df = pd.DataFrame(annots, columns=['text', 'annotator', 'type_mistake'])\n",
        "annot_df.head()"
      ],
      "metadata": {
        "colab": {
          "base_uri": "https://localhost:8080/",
          "height": 206
        },
        "id": "r0XAbNNQjxp4",
        "outputId": "5434c831-8a86-4977-e243-21c26baf6886"
      },
      "execution_count": 29,
      "outputs": [
        {
          "output_type": "execute_result",
          "data": {
            "text/plain": [
              "                                                text annotator    type_mistake\n",
              "0  Создание  новой  версии  Личного  Кабинета  МИ...     human  грамматическая\n",
              "1  Создание  новой  версии  Личного  Кабинета  МИ...    gemma2  стилистическая\n",
              "2  Создание  новой  версии  Личного  Кабинета  МИ...   qwen2.5  стилистическая\n",
              "3  Кабинет  доказал  свою  эффективность  и  необ...     human  стилистическая\n",
              "4  Кабинет  доказал  свою  эффективность  и  необ...    gemma2     лексическая"
            ],
            "text/html": [
              "\n",
              "  <div id=\"df-28a74e0d-5fc2-4c1c-97de-7584f0aaaded\" class=\"colab-df-container\">\n",
              "    <div>\n",
              "<style scoped>\n",
              "    .dataframe tbody tr th:only-of-type {\n",
              "        vertical-align: middle;\n",
              "    }\n",
              "\n",
              "    .dataframe tbody tr th {\n",
              "        vertical-align: top;\n",
              "    }\n",
              "\n",
              "    .dataframe thead th {\n",
              "        text-align: right;\n",
              "    }\n",
              "</style>\n",
              "<table border=\"1\" class=\"dataframe\">\n",
              "  <thead>\n",
              "    <tr style=\"text-align: right;\">\n",
              "      <th></th>\n",
              "      <th>text</th>\n",
              "      <th>annotator</th>\n",
              "      <th>type_mistake</th>\n",
              "    </tr>\n",
              "  </thead>\n",
              "  <tbody>\n",
              "    <tr>\n",
              "      <th>0</th>\n",
              "      <td>Создание  новой  версии  Личного  Кабинета  МИ...</td>\n",
              "      <td>human</td>\n",
              "      <td>грамматическая</td>\n",
              "    </tr>\n",
              "    <tr>\n",
              "      <th>1</th>\n",
              "      <td>Создание  новой  версии  Личного  Кабинета  МИ...</td>\n",
              "      <td>gemma2</td>\n",
              "      <td>стилистическая</td>\n",
              "    </tr>\n",
              "    <tr>\n",
              "      <th>2</th>\n",
              "      <td>Создание  новой  версии  Личного  Кабинета  МИ...</td>\n",
              "      <td>qwen2.5</td>\n",
              "      <td>стилистическая</td>\n",
              "    </tr>\n",
              "    <tr>\n",
              "      <th>3</th>\n",
              "      <td>Кабинет  доказал  свою  эффективность  и  необ...</td>\n",
              "      <td>human</td>\n",
              "      <td>стилистическая</td>\n",
              "    </tr>\n",
              "    <tr>\n",
              "      <th>4</th>\n",
              "      <td>Кабинет  доказал  свою  эффективность  и  необ...</td>\n",
              "      <td>gemma2</td>\n",
              "      <td>лексическая</td>\n",
              "    </tr>\n",
              "  </tbody>\n",
              "</table>\n",
              "</div>\n",
              "    <div class=\"colab-df-buttons\">\n",
              "\n",
              "  <div class=\"colab-df-container\">\n",
              "    <button class=\"colab-df-convert\" onclick=\"convertToInteractive('df-28a74e0d-5fc2-4c1c-97de-7584f0aaaded')\"\n",
              "            title=\"Convert this dataframe to an interactive table.\"\n",
              "            style=\"display:none;\">\n",
              "\n",
              "  <svg xmlns=\"http://www.w3.org/2000/svg\" height=\"24px\" viewBox=\"0 -960 960 960\">\n",
              "    <path d=\"M120-120v-720h720v720H120Zm60-500h600v-160H180v160Zm220 220h160v-160H400v160Zm0 220h160v-160H400v160ZM180-400h160v-160H180v160Zm440 0h160v-160H620v160ZM180-180h160v-160H180v160Zm440 0h160v-160H620v160Z\"/>\n",
              "  </svg>\n",
              "    </button>\n",
              "\n",
              "  <style>\n",
              "    .colab-df-container {\n",
              "      display:flex;\n",
              "      gap: 12px;\n",
              "    }\n",
              "\n",
              "    .colab-df-convert {\n",
              "      background-color: #E8F0FE;\n",
              "      border: none;\n",
              "      border-radius: 50%;\n",
              "      cursor: pointer;\n",
              "      display: none;\n",
              "      fill: #1967D2;\n",
              "      height: 32px;\n",
              "      padding: 0 0 0 0;\n",
              "      width: 32px;\n",
              "    }\n",
              "\n",
              "    .colab-df-convert:hover {\n",
              "      background-color: #E2EBFA;\n",
              "      box-shadow: 0px 1px 2px rgba(60, 64, 67, 0.3), 0px 1px 3px 1px rgba(60, 64, 67, 0.15);\n",
              "      fill: #174EA6;\n",
              "    }\n",
              "\n",
              "    .colab-df-buttons div {\n",
              "      margin-bottom: 4px;\n",
              "    }\n",
              "\n",
              "    [theme=dark] .colab-df-convert {\n",
              "      background-color: #3B4455;\n",
              "      fill: #D2E3FC;\n",
              "    }\n",
              "\n",
              "    [theme=dark] .colab-df-convert:hover {\n",
              "      background-color: #434B5C;\n",
              "      box-shadow: 0px 1px 3px 1px rgba(0, 0, 0, 0.15);\n",
              "      filter: drop-shadow(0px 1px 2px rgba(0, 0, 0, 0.3));\n",
              "      fill: #FFFFFF;\n",
              "    }\n",
              "  </style>\n",
              "\n",
              "    <script>\n",
              "      const buttonEl =\n",
              "        document.querySelector('#df-28a74e0d-5fc2-4c1c-97de-7584f0aaaded button.colab-df-convert');\n",
              "      buttonEl.style.display =\n",
              "        google.colab.kernel.accessAllowed ? 'block' : 'none';\n",
              "\n",
              "      async function convertToInteractive(key) {\n",
              "        const element = document.querySelector('#df-28a74e0d-5fc2-4c1c-97de-7584f0aaaded');\n",
              "        const dataTable =\n",
              "          await google.colab.kernel.invokeFunction('convertToInteractive',\n",
              "                                                    [key], {});\n",
              "        if (!dataTable) return;\n",
              "\n",
              "        const docLinkHtml = 'Like what you see? Visit the ' +\n",
              "          '<a target=\"_blank\" href=https://colab.research.google.com/notebooks/data_table.ipynb>data table notebook</a>'\n",
              "          + ' to learn more about interactive tables.';\n",
              "        element.innerHTML = '';\n",
              "        dataTable['output_type'] = 'display_data';\n",
              "        await google.colab.output.renderOutput(dataTable, element);\n",
              "        const docLink = document.createElement('div');\n",
              "        docLink.innerHTML = docLinkHtml;\n",
              "        element.appendChild(docLink);\n",
              "      }\n",
              "    </script>\n",
              "  </div>\n",
              "\n",
              "\n",
              "<div id=\"df-8dc55b2a-e00e-466d-b0b9-bbe538504d71\">\n",
              "  <button class=\"colab-df-quickchart\" onclick=\"quickchart('df-8dc55b2a-e00e-466d-b0b9-bbe538504d71')\"\n",
              "            title=\"Suggest charts\"\n",
              "            style=\"display:none;\">\n",
              "\n",
              "<svg xmlns=\"http://www.w3.org/2000/svg\" height=\"24px\"viewBox=\"0 0 24 24\"\n",
              "     width=\"24px\">\n",
              "    <g>\n",
              "        <path d=\"M19 3H5c-1.1 0-2 .9-2 2v14c0 1.1.9 2 2 2h14c1.1 0 2-.9 2-2V5c0-1.1-.9-2-2-2zM9 17H7v-7h2v7zm4 0h-2V7h2v10zm4 0h-2v-4h2v4z\"/>\n",
              "    </g>\n",
              "</svg>\n",
              "  </button>\n",
              "\n",
              "<style>\n",
              "  .colab-df-quickchart {\n",
              "      --bg-color: #E8F0FE;\n",
              "      --fill-color: #1967D2;\n",
              "      --hover-bg-color: #E2EBFA;\n",
              "      --hover-fill-color: #174EA6;\n",
              "      --disabled-fill-color: #AAA;\n",
              "      --disabled-bg-color: #DDD;\n",
              "  }\n",
              "\n",
              "  [theme=dark] .colab-df-quickchart {\n",
              "      --bg-color: #3B4455;\n",
              "      --fill-color: #D2E3FC;\n",
              "      --hover-bg-color: #434B5C;\n",
              "      --hover-fill-color: #FFFFFF;\n",
              "      --disabled-bg-color: #3B4455;\n",
              "      --disabled-fill-color: #666;\n",
              "  }\n",
              "\n",
              "  .colab-df-quickchart {\n",
              "    background-color: var(--bg-color);\n",
              "    border: none;\n",
              "    border-radius: 50%;\n",
              "    cursor: pointer;\n",
              "    display: none;\n",
              "    fill: var(--fill-color);\n",
              "    height: 32px;\n",
              "    padding: 0;\n",
              "    width: 32px;\n",
              "  }\n",
              "\n",
              "  .colab-df-quickchart:hover {\n",
              "    background-color: var(--hover-bg-color);\n",
              "    box-shadow: 0 1px 2px rgba(60, 64, 67, 0.3), 0 1px 3px 1px rgba(60, 64, 67, 0.15);\n",
              "    fill: var(--button-hover-fill-color);\n",
              "  }\n",
              "\n",
              "  .colab-df-quickchart-complete:disabled,\n",
              "  .colab-df-quickchart-complete:disabled:hover {\n",
              "    background-color: var(--disabled-bg-color);\n",
              "    fill: var(--disabled-fill-color);\n",
              "    box-shadow: none;\n",
              "  }\n",
              "\n",
              "  .colab-df-spinner {\n",
              "    border: 2px solid var(--fill-color);\n",
              "    border-color: transparent;\n",
              "    border-bottom-color: var(--fill-color);\n",
              "    animation:\n",
              "      spin 1s steps(1) infinite;\n",
              "  }\n",
              "\n",
              "  @keyframes spin {\n",
              "    0% {\n",
              "      border-color: transparent;\n",
              "      border-bottom-color: var(--fill-color);\n",
              "      border-left-color: var(--fill-color);\n",
              "    }\n",
              "    20% {\n",
              "      border-color: transparent;\n",
              "      border-left-color: var(--fill-color);\n",
              "      border-top-color: var(--fill-color);\n",
              "    }\n",
              "    30% {\n",
              "      border-color: transparent;\n",
              "      border-left-color: var(--fill-color);\n",
              "      border-top-color: var(--fill-color);\n",
              "      border-right-color: var(--fill-color);\n",
              "    }\n",
              "    40% {\n",
              "      border-color: transparent;\n",
              "      border-right-color: var(--fill-color);\n",
              "      border-top-color: var(--fill-color);\n",
              "    }\n",
              "    60% {\n",
              "      border-color: transparent;\n",
              "      border-right-color: var(--fill-color);\n",
              "    }\n",
              "    80% {\n",
              "      border-color: transparent;\n",
              "      border-right-color: var(--fill-color);\n",
              "      border-bottom-color: var(--fill-color);\n",
              "    }\n",
              "    90% {\n",
              "      border-color: transparent;\n",
              "      border-bottom-color: var(--fill-color);\n",
              "    }\n",
              "  }\n",
              "</style>\n",
              "\n",
              "  <script>\n",
              "    async function quickchart(key) {\n",
              "      const quickchartButtonEl =\n",
              "        document.querySelector('#' + key + ' button');\n",
              "      quickchartButtonEl.disabled = true;  // To prevent multiple clicks.\n",
              "      quickchartButtonEl.classList.add('colab-df-spinner');\n",
              "      try {\n",
              "        const charts = await google.colab.kernel.invokeFunction(\n",
              "            'suggestCharts', [key], {});\n",
              "      } catch (error) {\n",
              "        console.error('Error during call to suggestCharts:', error);\n",
              "      }\n",
              "      quickchartButtonEl.classList.remove('colab-df-spinner');\n",
              "      quickchartButtonEl.classList.add('colab-df-quickchart-complete');\n",
              "    }\n",
              "    (() => {\n",
              "      let quickchartButtonEl =\n",
              "        document.querySelector('#df-8dc55b2a-e00e-466d-b0b9-bbe538504d71 button');\n",
              "      quickchartButtonEl.style.display =\n",
              "        google.colab.kernel.accessAllowed ? 'block' : 'none';\n",
              "    })();\n",
              "  </script>\n",
              "</div>\n",
              "    </div>\n",
              "  </div>\n"
            ],
            "application/vnd.google.colaboratory.intrinsic+json": {
              "type": "dataframe",
              "variable_name": "annot_df",
              "summary": "{\n  \"name\": \"annot_df\",\n  \"rows\": 639,\n  \"fields\": [\n    {\n      \"column\": \"text\",\n      \"properties\": {\n        \"dtype\": \"category\",\n        \"num_unique_values\": 213,\n        \"samples\": [\n          \"\\u0410\\u043b\\u0433\\u043e\\u0440\\u0438\\u0442\\u043c\\u044b \\u0431\\u044b\\u043b\\u0438 \\u0440\\u0435\\u0430\\u043b\\u0438\\u0437\\u043e\\u0432\\u0430\\u043d\\u044b \\u043d\\u0430 \\u0440\\u0430\\u0437\\u043b\\u0438\\u0447\\u043d\\u044b\\u0445 \\u044f\\u0437\\u044b\\u043a\\u0430\\u0445 \\u043f\\u0440\\u043e\\u0433\\u0440\\u0430\\u043c\\u043c\\u0438\\u0440\\u043e\\u0432\\u0430\\u043d\\u0438\\u044f: Matlab Python3, \\u0438 C++, \\u0440\\u0435\\u0430\\u043b\\u0438\\u0437\\u0443\\u044e\\u0449\\u0438\\u0435 SPARC \\u0438 \\u043a\\u0430\\u0441\\u043a\\u0430\\u0434 \\u043d\\u0430 \\u0435\\u0433\\u043e \\u043e\\u0441\\u043d\\u043e\\u0432\\u0435.\",\n          \"\\u0414\\u0430\\u043b\\u044c\\u043d\\u0435\\u0438\\u0306\\u0448\\u0435\\u0435 \\u0440\\u0430\\u0437\\u0432\\u0438\\u0442\\u0438\\u0435 \\u0438 \\u0441\\u043e\\u0432\\u0435\\u0440\\u0448\\u0435\\u043d\\u0441\\u0442\\u0432\\u043e\\u0432\\u0430\\u043d\\u0438\\u0435 \\u043c\\u043e\\u0434\\u0435\\u043b\\u0435\\u0438\\u0306 \\u0434\\u0438\\u0444\\u0444\\u0435\\u0440\\u0435\\u043d\\u0446\\u0438\\u0440\\u043e\\u0432\\u0430\\u043d\\u043d\\u043e\\u0438\\u0306 \\u0438 \\u0433\\u0438\\u0431\\u043a\\u043e\\u0438\\u0306 \\u0442\\u0430\\u0440\\u0438\\u0444\\u0438\\u043a\\u0430\\u0446\\u0438\\u0438 \\u044f\\u0432\\u043b\\u044f\\u0435\\u0442\\u0441\\u044f \\u0430\\u043a\\u0442\\u0443\\u0430\\u043b\\u044c\\u043d\\u043e\\u0438\\u0306 \\u043e\\u0431\\u043b\\u0430\\u0441\\u0442\\u044c\\u044e \\u0438\\u0441\\u0441\\u043b\\u0435\\u0434\\u043e\\u0432\\u0430\\u043d\\u0438\\u0438\\u0306. \",\n          \"\\u0412 \\u044d\\u0442\\u043e\\u043c \\u0441\\u043b\\u0443\\u0447\\u0430\\u0435 \\u043f\\u0438\\u0442\\u0430\\u043d\\u0438\\u0435 \\u043a\\u0432\\u0430\\u0434\\u0440\\u043e\\u043a\\u043e\\u043f\\u0442\\u0435\\u0440\\u0430 \\u0438 \\u0440\\u0435\\u0442\\u0440\\u0430\\u043d\\u0441\\u043b\\u044f\\u0442\\u043e\\u0440\\u0430 \\u043e\\u0431\\u0435\\u0441\\u043f\\u0435\\u0447\\u0438\\u0432\\u0430\\u0435\\u0442 \\u0431\\u0435\\u043d\\u0437\\u0438\\u043d\\u043e\\u0432\\u044b\\u0439 \\u044d\\u043b\\u0435\\u043a\\u0442\\u0440\\u043e\\u0433\\u0435\\u043d\\u0435\\u0440\\u0430\\u0442\\u043e\\u0440 \\u043d\\u0430\\u0437\\u0435\\u043c\\u043d\\u043e\\u0439 \\u0443\\u0441\\u0442\\u0430\\u043d\\u043e\\u0432\\u043a\\u0438 \\u043f\\u043e\\u0441\\u0440\\u0435\\u0434\\u0441\\u0442\\u0432\\u043e\\u043c \\u043a\\u0430\\u0431\\u0435\\u043b\\u044f \\u0441\\u043d\\u0438\\u0436\\u0435\\u043d\\u0438\\u044f.\"\n        ],\n        \"semantic_type\": \"\",\n        \"description\": \"\"\n      }\n    },\n    {\n      \"column\": \"annotator\",\n      \"properties\": {\n        \"dtype\": \"category\",\n        \"num_unique_values\": 3,\n        \"samples\": [\n          \"human\",\n          \"gemma2\",\n          \"qwen2.5\"\n        ],\n        \"semantic_type\": \"\",\n        \"description\": \"\"\n      }\n    },\n    {\n      \"column\": \"type_mistake\",\n      \"properties\": {\n        \"dtype\": \"category\",\n        \"num_unique_values\": 8,\n        \"samples\": [\n          \"\\u0441\\u0442\\u0438\\u043b\\u0438\\u0441\\u0442\\u0438\\u0447\\u0435\\u0441\\u043a\\u0430\\u044f\",\n          \"\\u043b\\u043e\\u0433\\u0438\\u0447\\u0435\\u0441\\u043a\\u0430\\u044f\",\n          \"\\u0433\\u0440\\u0430\\u043c\\u043c\\u0430\\u0442\\u0438\\u0447\\u0435\\u0441\\u043a\\u0430\\u044f\"\n        ],\n        \"semantic_type\": \"\",\n        \"description\": \"\"\n      }\n    }\n  ]\n}"
            }
          },
          "metadata": {},
          "execution_count": 29
        }
      ]
    },
    {
      "cell_type": "code",
      "source": [
        "classes = sorted(annot_df['type_mistake'].unique())\n",
        "class2id = {label: i for i, label in enumerate(classes)}\n",
        "\n",
        "pivot = annot_df.groupby(['text', 'type_mistake']).size().unstack(fill_value=0)\n",
        "\n",
        "for c in classes:\n",
        "    if c not in pivot.columns:\n",
        "        pivot[c] = 0\n",
        "\n",
        "ratings_matrix = pivot[classes].to_numpy()"
      ],
      "metadata": {
        "id": "id8Re6nQkU7J"
      },
      "execution_count": 30,
      "outputs": []
    },
    {
      "cell_type": "code",
      "source": [
        "from statsmodels.stats.inter_rater import fleiss_kappa\n",
        "\n",
        "kappa = fleiss_kappa(ratings_matrix)\n",
        "print(f\"Fleiss' Kappa: {kappa:.3f}\")"
      ],
      "metadata": {
        "colab": {
          "base_uri": "https://localhost:8080/"
        },
        "id": "b9KtcRIEhHYs",
        "outputId": "890ed4f9-e39c-4c7d-be08-3ec528693738"
      },
      "execution_count": 31,
      "outputs": [
        {
          "output_type": "stream",
          "name": "stdout",
          "text": [
            "Fleiss' Kappa: 0.115\n"
          ]
        }
      ]
    },
    {
      "cell_type": "code",
      "source": [
        "from sklearn.metrics import cohen_kappa_score\n",
        "from collections import Counter\n",
        "\n",
        "def scotts_pi(rater1, rater2):\n",
        "    assert len(rater1) == len(rater2)\n",
        "    total = len(rater1)\n",
        "\n",
        "    agree = sum(r1 == r2 for r1, r2 in zip(rater1, rater2)) / total\n",
        "\n",
        "    counts = Counter(rater1 + rater2)\n",
        "    total_ratings = 2 * total\n",
        "    probs = {k: v / total_ratings for k, v in counts.items()}\n",
        "\n",
        "    expected_agree = sum(p ** 2 for p in probs.values())\n",
        "    pi = (agree - expected_agree) / (1 - expected_agree)\n",
        "    return pi"
      ],
      "metadata": {
        "id": "p5gQ0ZYCa-HO"
      },
      "execution_count": 32,
      "outputs": []
    },
    {
      "cell_type": "code",
      "source": [
        "rater1 = annot_df[annot_df.annotator == \"human\"]['type_mistake'].tolist()\n",
        "rater2 = annot_df[annot_df.annotator == \"gemma2\"]['type_mistake'].tolist()\n",
        "rater3 = annot_df[annot_df.annotator == \"qwen2.5\"]['type_mistake'].tolist()"
      ],
      "metadata": {
        "id": "_ZHAMADwlGk7"
      },
      "execution_count": 33,
      "outputs": []
    },
    {
      "cell_type": "code",
      "source": [
        "kappa = cohen_kappa_score(rater1, rater2)\n",
        "print(f\"Cohen's Kappa Human Gemma: {kappa:.3f}\")"
      ],
      "metadata": {
        "colab": {
          "base_uri": "https://localhost:8080/"
        },
        "id": "iyySabNfk8ij",
        "outputId": "d65fd0f8-e258-4801-b555-60bf8d045a38"
      },
      "execution_count": 34,
      "outputs": [
        {
          "output_type": "stream",
          "name": "stdout",
          "text": [
            "Cohen's Kappa Human Gemma: 0.086\n"
          ]
        }
      ]
    },
    {
      "cell_type": "code",
      "source": [
        "kappa = cohen_kappa_score(rater1, rater3)\n",
        "print(f\"Cohen's Kappa Human Qwen: {kappa:.3f}\")"
      ],
      "metadata": {
        "colab": {
          "base_uri": "https://localhost:8080/"
        },
        "id": "HwzU74P7lzzf",
        "outputId": "a9e5ff07-ddc3-4c1e-bdc7-25df259a067b"
      },
      "execution_count": 35,
      "outputs": [
        {
          "output_type": "stream",
          "name": "stdout",
          "text": [
            "Cohen's Kappa Human Qwen: 0.043\n"
          ]
        }
      ]
    },
    {
      "cell_type": "code",
      "source": [
        "kappa = cohen_kappa_score(rater2, rater3)\n",
        "print(f\"Cohen's Kappa Gemma Qwen: {kappa:.3f}\")"
      ],
      "metadata": {
        "colab": {
          "base_uri": "https://localhost:8080/"
        },
        "id": "DNb3u9k_l6pd",
        "outputId": "87562177-e1a8-46fd-d0b3-b9e9498d2657"
      },
      "execution_count": 36,
      "outputs": [
        {
          "output_type": "stream",
          "name": "stdout",
          "text": [
            "Cohen's Kappa Gemma Qwen: 0.286\n"
          ]
        }
      ]
    },
    {
      "cell_type": "code",
      "source": [
        "scottie = scotts_pi(rater1, rater2)\n",
        "print(f\"Scott's Pi Human Gemma: {scottie:.3f}\")"
      ],
      "metadata": {
        "colab": {
          "base_uri": "https://localhost:8080/"
        },
        "outputId": "0fe40b19-a714-47ee-d955-5176c12f3cb6",
        "id": "cXgLt_y48kBU"
      },
      "execution_count": 37,
      "outputs": [
        {
          "output_type": "stream",
          "name": "stdout",
          "text": [
            "Scott's Pi Human Gemma: 0.040\n"
          ]
        }
      ]
    },
    {
      "cell_type": "code",
      "source": [
        "scottie = scotts_pi(rater1, rater3)\n",
        "print(f\"Scott's Pi Human Qwe: {scottie:.3f}\")"
      ],
      "metadata": {
        "colab": {
          "base_uri": "https://localhost:8080/"
        },
        "outputId": "3704781d-7069-4588-e651-fcdd39ff969f",
        "id": "RSr0fPJr8kBU"
      },
      "execution_count": 38,
      "outputs": [
        {
          "output_type": "stream",
          "name": "stdout",
          "text": [
            "Scott's Pi Human Qwe: 0.028\n"
          ]
        }
      ]
    },
    {
      "cell_type": "code",
      "source": [
        "scottie = scotts_pi(rater2, rater3)\n",
        "print(f\"Scott's Pi Gemma Qwen: {scottie:.3f}\")"
      ],
      "metadata": {
        "colab": {
          "base_uri": "https://localhost:8080/"
        },
        "outputId": "8e6e5a28-c58a-460d-bf4d-40197334a0a8",
        "id": "vE6AqLXN8kBU"
      },
      "execution_count": 39,
      "outputs": [
        {
          "output_type": "stream",
          "name": "stdout",
          "text": [
            "Scott's Pi Gemma Qwen: 0.249\n"
          ]
        }
      ]
    },
    {
      "cell_type": "code",
      "source": [
        "from crowdkit.aggregation import DawidSkene, GLAD"
      ],
      "metadata": {
        "id": "LvtA3uuPXRHB"
      },
      "execution_count": null,
      "outputs": []
    },
    {
      "cell_type": "code",
      "source": [
        "annot_df = annot_df.rename(columns={\"text\": \"task\", \"annotator\": \"worker\", \"type_mistake\":\"label\"})"
      ],
      "metadata": {
        "id": "DzRFX6udmX1O"
      },
      "execution_count": null,
      "outputs": []
    },
    {
      "cell_type": "code",
      "source": [
        "ds = DawidSkene()\n",
        "ds_result = ds.fit_predict(annot_df)\n",
        "print(\"Dawid-Skene:\\n\", ds_result)"
      ],
      "metadata": {
        "colab": {
          "base_uri": "https://localhost:8080/"
        },
        "id": "3qliLhC2XUsP",
        "outputId": "2018410e-ec83-4d29-d16a-71e8d788b513"
      },
      "execution_count": null,
      "outputs": [
        {
          "output_type": "stream",
          "name": "stdout",
          "text": [
            "Dawid-Skene:\n",
            " task\n",
            "Создание  новой  версии  Личного  Кабинета  МИЭМ  НИУ  ВШЭ   с удобным  пользовательским  интерфейсом,  соответствующим  дизайн­коду МИЭМ НИУ ВШЭ, учитывающий все изменения в методологии ведения проектной деятельности.                 стилистическая\n",
            "Кабинет  доказал  свою  эффективность  и  необходимость  для  проектной модеди обучения. Однако за 4 года использования морально устарели как дизайн Кабинета, так и его кодовая база.                                                        лексическая\n",
            "Наряду с этим относительно новый подход в образовании набирает популярность во всём мире: Проектная модель обучения.                                                                                                                       пунктуационная\n",
            "Проектная модель обучения ­-  это педагогический подход, в рамках которого, ученики работают в группах, исследуют выбранный ими вопрос, используют различные ресурсы, совместно разрабатывают решения и выполняют практические задания.    стилистическая\n",
            "Для поддержки Проектной модели обучения возникает потребность сервисов с системой управления проектной деятельностью.                                                                                                                             речевая\n",
            "                                                                                                                                                                                                                                                ...      \n",
            "Созданные программные комплексы основаны на операционных системах, имеющих сертификаты соответствия в системе сертификации правоохранительных органов России, таких как Astra- Linux [25], Alt-Linux [26] и Windows XP [27].                  лексическая\n",
            "Современные проблемы требуют современных решений, и с относительно недавних пор начали приобретать популярность системы связи на основе протокола SIP.                                                                                       лексическая\n",
            "При среднем размере съёмочной команды Медиацентра до 10 человек система связи имеет запас по числу одновременно обслуживаемых пользователей, многократно превышающий их актуальное количество.                                            лексическая\n",
            "К пробелам в данной системе относится тот факт, что сравнение цен на материалы от различных поставщиков может быть неполным или неактуальным из-за изменения цен и наличия товаров на рынке.                                                 лексическая\n",
            "Идея работы заключается в создании не только умной, но и интуитивно понятной и простой в использовании системы расчета предварительной стоимости строительства дома, ориентированной под конкретную фирму заказчика.                         речевая\n",
            "Name: agg_label, Length: 213, dtype: object\n"
          ]
        }
      ]
    },
    {
      "cell_type": "code",
      "source": [
        "glad = GLAD()\n",
        "glad_result = glad.fit_predict(annot_df)\n",
        "print(\"\\nGLAD:\\n\", glad_result)"
      ],
      "metadata": {
        "colab": {
          "base_uri": "https://localhost:8080/"
        },
        "id": "aGapQxetbWNp",
        "outputId": "a74a5e99-6f47-43c4-c6da-a13dc5f307e1"
      },
      "execution_count": null,
      "outputs": [
        {
          "output_type": "stream",
          "name": "stdout",
          "text": [
            "\n",
            "GLAD:\n",
            " task\n",
            " S – люди, которые могут воспринимать только конкретную информацию, или практическую, то есть информацию, которую можно потрогать, увидеть, услышать.                                              стилистическая\n",
            " Из-за использования тяжелых моделей для запуска этой системы нужно большие вычислительные ресурсы, …                                                                                              грамматическая\n",
            "... для выявления чувствительности растительности к ЭНЮК посредством корреляционного и вейвлет-анализа.                                                                                           стилистическая\n",
            "... ключевой особенностью ... является «прогноз потерь за год» и оценка «кэшбэка от инвестиций»                                                                                                           речевая\n",
            "... лекционного материала защищённого авторским правом, до работы с персональными данными сотрудников и студентов.                                                                                 грамматическая\n",
            "                                                                                                                                                                                                        ...      \n",
            "… чтобы попытаться избежать этих проблем они решили использовать модели, которые были пред обучены.                                                                                                грамматическая\n",
            "…, а также нехватку специалистов в данных заведений.                                                                                                                                                  лексическая\n",
            "…, находящийся в учебно-исследовательской лаборатории функциональная безопасность космических аппаратов и систем для визуализации пролёта макета малого космического аппарата на данном стенде.    грамматическая\n",
            "…, схемотехническое моделирование, а также проводятся отдельно моделирование тепловых процессов и расчет надежности электронных компонентов и всей системы в целом.                               пунктуационная\n",
            "…повлиять на будущее развитие кодовой базы и улучшение CCN архитектуры, а также расширение области ее применения.                                                                                  пунктуационная\n",
            "Name: agg_label, Length: 213, dtype: object\n"
          ]
        }
      ]
    },
    {
      "cell_type": "code",
      "source": [
        "print(\"\\nАннотаторы (способности):\\n\", glad.alphas_)\n",
        "print(\"\\nЗадачи (трудности):\\n\", glad.betas_)"
      ],
      "metadata": {
        "colab": {
          "base_uri": "https://localhost:8080/"
        },
        "id": "ZGKZfOPlbWlz",
        "outputId": "aeae3110-1099-474e-84cc-2e582ce56220"
      },
      "execution_count": null,
      "outputs": [
        {
          "output_type": "stream",
          "name": "stdout",
          "text": [
            "\n",
            "Аннотаторы (способности):\n",
            " worker\n",
            "human     -0.338197\n",
            "gemma2     0.384589\n",
            "qwen2.5    0.333930\n",
            "Name: alpha, dtype: float64\n",
            "\n",
            "Задачи (трудности):\n",
            " task\n",
            "Создание  новой  версии  Личного  Кабинета  МИЭМ  НИУ  ВШЭ   с удобным  пользовательским  интерфейсом,  соответствующим  дизайн­коду МИЭМ НИУ ВШЭ, учитывающий все изменения в методологии ведения проектной деятельности.                 1.712228\n",
            "Кабинет  доказал  свою  эффективность  и  необходимость  для  проектной модеди обучения. Однако за 4 года использования морально устарели как дизайн Кабинета, так и его кодовая база.                                                     1.712228\n",
            "Наряду с этим относительно новый подход в образовании набирает популярность во всём мире: Проектная модель обучения.                                                                                                                       1.712228\n",
            "Проектная модель обучения ­-  это педагогический подход, в рамках которого, ученики работают в группах, исследуют выбранный ими вопрос, используют различные ресурсы, совместно разрабатывают решения и выполняют практические задания.    0.547806\n",
            "Для поддержки Проектной модели обучения возникает потребность сервисов с системой управления проектной деятельностью.                                                                                                                      0.695677\n",
            "                                                                                                                                                                                                                                             ...   \n",
            "Созданные программные комплексы основаны на операционных системах, имеющих сертификаты соответствия в системе сертификации правоохранительных органов России, таких как Astra- Linux [25], Alt-Linux [26] и Windows XP [27].               1.712228\n",
            "Современные проблемы требуют современных решений, и с относительно недавних пор начали приобретать популярность системы связи на основе протокола SIP.                                                                                    0.695677\n",
            "При среднем размере съёмочной команды Медиацентра до 10 человек система связи имеет запас по числу одновременно обслуживаемых пользователей, многократно превышающий их актуальное количество.                                         0.547806\n",
            "К пробелам в данной системе относится тот факт, что сравнение цен на материалы от различных поставщиков может быть неполным или неактуальным из-за изменения цен и наличия товаров на рынке.                                              0.695677\n",
            "Идея работы заключается в создании не только умной, но и интуитивно понятной и простой в использовании системы расчета предварительной стоимости строительства дома, ориентированной под конкретную фирму заказчика.                  0.695677\n",
            "Name: beta, Length: 213, dtype: float64\n"
          ]
        }
      ]
    },
    {
      "cell_type": "code",
      "source": [],
      "metadata": {
        "id": "mb6e8lTzYo5G"
      },
      "execution_count": null,
      "outputs": []
    }
  ]
}